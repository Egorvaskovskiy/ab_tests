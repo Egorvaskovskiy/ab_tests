{
 "cells": [
  {
   "cell_type": "markdown",
   "metadata": {},
   "source": [
    "# Описание проекта \n",
    "\n",
    "Вы — аналитик крупного интернет-магазина. Вместе с отделом маркетинга вы подготовили список гипотез для увеличения выручки. \n",
    "\n",
    "**Цель:** Приоритизировать гипотезы, провести A/B тест и принять решение по результатам тестирования.\n",
    "\n",
    "**Ход проекта:**\n",
    "- Приоритизация гипотез. Применение фреймворков ICE и RICE. Выявление различий между двумя методами\n",
    "- Первичный анализ результатов A/B теста. \n",
    "- Анализ результатов теста с учетом аномальных значений. Сравнение результатов для \"сырых\" и \"очищенных\" данных.\n",
    "- Принятие решений по результатам теста - остановка теста с победой группы/отсутствием разницы или же продолжение теста.\n",
    "\n",
    "**Описание данных:**\n",
    "\n",
    "Файл `hypothesis.csv` : \n",
    "\n",
    "- `Hypothesis` — краткое описание гипотезы;\n",
    "- `Reach` — охват пользователей по 10-балльной шкале;\n",
    "- `Impact` — влияние на пользователей по 10-балльной шкале;\n",
    "- `Confidence` — уверенность в гипотезе по 10-балльной шкале;\n",
    "- `Efforts` — затраты ресурсов на проверку гипотезы по 10-балльной шкале. Чем больше значение Efforts, тем дороже проверка гипотезы.\n",
    "\n",
    "Файл `orders.csv` : \n",
    "\n",
    "- `transactionId` — идентификатор заказа;\n",
    "- `visitorId` — идентификатор пользователя, совершившего заказ;\n",
    "- `date` — дата, когда был совершён заказ;\n",
    "- `revenue` — выручка заказа;\n",
    "- `group` — группа A/B-теста, в которую попал заказ.\n",
    "\n",
    "Файл `visitors.csv` : \n",
    "\n",
    "- `date` — дата;\n",
    "- `group` — группа A/B-теста;\n",
    "- `visitors` — количество пользователей в указанную дату в указанной группе A/B-теста"
   ]
  },
  {
   "cell_type": "markdown",
   "metadata": {},
   "source": [
    "## Приоритизация гипотез"
   ]
  },
  {
   "cell_type": "markdown",
   "metadata": {},
   "source": [
    "### Подготовительный этап\n",
    "\n",
    "Перед тем как начать работу, необходимо произвести подготовительные действия. Начнем с импорта необходимых библиотек:"
   ]
  },
  {
   "cell_type": "code",
   "execution_count": 143,
   "metadata": {},
   "outputs": [],
   "source": [
    "import pandas as pd\n",
    "import numpy as np\n",
    "import datetime as dt\n",
    "import matplotlib.pyplot as plt\n",
    "import scipy.stats as stats"
   ]
  },
  {
   "cell_type": "markdown",
   "metadata": {},
   "source": [
    "Теперь сохраним данные из файлов в переменных:"
   ]
  },
  {
   "cell_type": "code",
   "execution_count": 144,
   "metadata": {},
   "outputs": [],
   "source": [
    "hypothesis = pd.read_csv('hypothesis.csv')\n",
    "orders = pd.read_csv('orders.csv')\n",
    "visitors = pd.read_csv('visitors.csv')"
   ]
  },
  {
   "cell_type": "markdown",
   "metadata": {},
   "source": [
    "Проверим что данные в фреймах сохранены верно:"
   ]
  },
  {
   "cell_type": "code",
   "execution_count": 145,
   "metadata": {},
   "outputs": [
    {
     "data": {
      "text/html": [
       "<div>\n",
       "<style scoped>\n",
       "    .dataframe tbody tr th:only-of-type {\n",
       "        vertical-align: middle;\n",
       "    }\n",
       "\n",
       "    .dataframe tbody tr th {\n",
       "        vertical-align: top;\n",
       "    }\n",
       "\n",
       "    .dataframe thead th {\n",
       "        text-align: right;\n",
       "    }\n",
       "</style>\n",
       "<table border=\"1\" class=\"dataframe\">\n",
       "  <thead>\n",
       "    <tr style=\"text-align: right;\">\n",
       "      <th></th>\n",
       "      <th>transactionId</th>\n",
       "      <th>visitorId</th>\n",
       "      <th>date</th>\n",
       "      <th>revenue</th>\n",
       "      <th>group</th>\n",
       "    </tr>\n",
       "  </thead>\n",
       "  <tbody>\n",
       "    <tr>\n",
       "      <th>0</th>\n",
       "      <td>3667963787</td>\n",
       "      <td>3312258926</td>\n",
       "      <td>2019-08-15</td>\n",
       "      <td>1650</td>\n",
       "      <td>B</td>\n",
       "    </tr>\n",
       "    <tr>\n",
       "      <th>1</th>\n",
       "      <td>2804400009</td>\n",
       "      <td>3642806036</td>\n",
       "      <td>2019-08-15</td>\n",
       "      <td>730</td>\n",
       "      <td>B</td>\n",
       "    </tr>\n",
       "    <tr>\n",
       "      <th>2</th>\n",
       "      <td>2961555356</td>\n",
       "      <td>4069496402</td>\n",
       "      <td>2019-08-15</td>\n",
       "      <td>400</td>\n",
       "      <td>A</td>\n",
       "    </tr>\n",
       "    <tr>\n",
       "      <th>3</th>\n",
       "      <td>3797467345</td>\n",
       "      <td>1196621759</td>\n",
       "      <td>2019-08-15</td>\n",
       "      <td>9759</td>\n",
       "      <td>B</td>\n",
       "    </tr>\n",
       "    <tr>\n",
       "      <th>4</th>\n",
       "      <td>2282983706</td>\n",
       "      <td>2322279887</td>\n",
       "      <td>2019-08-15</td>\n",
       "      <td>2308</td>\n",
       "      <td>B</td>\n",
       "    </tr>\n",
       "  </tbody>\n",
       "</table>\n",
       "</div>"
      ],
      "text/plain": [
       "   transactionId   visitorId        date  revenue group\n",
       "0     3667963787  3312258926  2019-08-15     1650     B\n",
       "1     2804400009  3642806036  2019-08-15      730     B\n",
       "2     2961555356  4069496402  2019-08-15      400     A\n",
       "3     3797467345  1196621759  2019-08-15     9759     B\n",
       "4     2282983706  2322279887  2019-08-15     2308     B"
      ]
     },
     "execution_count": 145,
     "metadata": {},
     "output_type": "execute_result"
    }
   ],
   "source": [
    "orders.head()"
   ]
  },
  {
   "cell_type": "code",
   "execution_count": 146,
   "metadata": {},
   "outputs": [
    {
     "name": "stdout",
     "output_type": "stream",
     "text": [
      "<class 'pandas.core.frame.DataFrame'>\n",
      "RangeIndex: 1197 entries, 0 to 1196\n",
      "Data columns (total 5 columns):\n",
      " #   Column         Non-Null Count  Dtype \n",
      "---  ------         --------------  ----- \n",
      " 0   transactionId  1197 non-null   int64 \n",
      " 1   visitorId      1197 non-null   int64 \n",
      " 2   date           1197 non-null   object\n",
      " 3   revenue        1197 non-null   int64 \n",
      " 4   group          1197 non-null   object\n",
      "dtypes: int64(3), object(2)\n",
      "memory usage: 46.9+ KB\n"
     ]
    }
   ],
   "source": [
    "orders.info()"
   ]
  },
  {
   "cell_type": "code",
   "execution_count": 147,
   "metadata": {},
   "outputs": [
    {
     "data": {
      "text/html": [
       "<div>\n",
       "<style scoped>\n",
       "    .dataframe tbody tr th:only-of-type {\n",
       "        vertical-align: middle;\n",
       "    }\n",
       "\n",
       "    .dataframe tbody tr th {\n",
       "        vertical-align: top;\n",
       "    }\n",
       "\n",
       "    .dataframe thead th {\n",
       "        text-align: right;\n",
       "    }\n",
       "</style>\n",
       "<table border=\"1\" class=\"dataframe\">\n",
       "  <thead>\n",
       "    <tr style=\"text-align: right;\">\n",
       "      <th></th>\n",
       "      <th>Hypothesis</th>\n",
       "      <th>Reach</th>\n",
       "      <th>Impact</th>\n",
       "      <th>Confidence</th>\n",
       "      <th>Efforts</th>\n",
       "    </tr>\n",
       "  </thead>\n",
       "  <tbody>\n",
       "    <tr>\n",
       "      <th>0</th>\n",
       "      <td>Добавить два новых канала привлечения трафика, что позволит привлекать на 30% больше пользователей</td>\n",
       "      <td>3</td>\n",
       "      <td>10</td>\n",
       "      <td>8</td>\n",
       "      <td>6</td>\n",
       "    </tr>\n",
       "    <tr>\n",
       "      <th>1</th>\n",
       "      <td>Запустить собственную службу доставки, что сократит срок доставки заказов</td>\n",
       "      <td>2</td>\n",
       "      <td>5</td>\n",
       "      <td>4</td>\n",
       "      <td>10</td>\n",
       "    </tr>\n",
       "    <tr>\n",
       "      <th>2</th>\n",
       "      <td>Добавить блоки рекомендаций товаров на сайт интернет магазина, чтобы повысить конверсию и средний чек заказа</td>\n",
       "      <td>8</td>\n",
       "      <td>3</td>\n",
       "      <td>7</td>\n",
       "      <td>3</td>\n",
       "    </tr>\n",
       "    <tr>\n",
       "      <th>3</th>\n",
       "      <td>Изменить структура категорий, что увеличит конверсию, т.к. пользователи быстрее найдут нужный товар</td>\n",
       "      <td>8</td>\n",
       "      <td>3</td>\n",
       "      <td>3</td>\n",
       "      <td>8</td>\n",
       "    </tr>\n",
       "    <tr>\n",
       "      <th>4</th>\n",
       "      <td>Изменить цвет фона главной страницы, чтобы увеличить вовлеченность пользователей</td>\n",
       "      <td>3</td>\n",
       "      <td>1</td>\n",
       "      <td>1</td>\n",
       "      <td>1</td>\n",
       "    </tr>\n",
       "  </tbody>\n",
       "</table>\n",
       "</div>"
      ],
      "text/plain": [
       "                                                                                                     Hypothesis  \\\n",
       "0            Добавить два новых канала привлечения трафика, что позволит привлекать на 30% больше пользователей   \n",
       "1                                     Запустить собственную службу доставки, что сократит срок доставки заказов   \n",
       "2  Добавить блоки рекомендаций товаров на сайт интернет магазина, чтобы повысить конверсию и средний чек заказа   \n",
       "3           Изменить структура категорий, что увеличит конверсию, т.к. пользователи быстрее найдут нужный товар   \n",
       "4                              Изменить цвет фона главной страницы, чтобы увеличить вовлеченность пользователей   \n",
       "\n",
       "   Reach  Impact  Confidence  Efforts  \n",
       "0      3      10           8        6  \n",
       "1      2       5           4       10  \n",
       "2      8       3           7        3  \n",
       "3      8       3           3        8  \n",
       "4      3       1           1        1  "
      ]
     },
     "execution_count": 147,
     "metadata": {},
     "output_type": "execute_result"
    }
   ],
   "source": [
    "pd.options.display.max_colwidth = 130\n",
    "hypothesis.head()"
   ]
  },
  {
   "cell_type": "code",
   "execution_count": 148,
   "metadata": {},
   "outputs": [
    {
     "name": "stdout",
     "output_type": "stream",
     "text": [
      "<class 'pandas.core.frame.DataFrame'>\n",
      "RangeIndex: 9 entries, 0 to 8\n",
      "Data columns (total 5 columns):\n",
      " #   Column      Non-Null Count  Dtype \n",
      "---  ------      --------------  ----- \n",
      " 0   Hypothesis  9 non-null      object\n",
      " 1   Reach       9 non-null      int64 \n",
      " 2   Impact      9 non-null      int64 \n",
      " 3   Confidence  9 non-null      int64 \n",
      " 4   Efforts     9 non-null      int64 \n",
      "dtypes: int64(4), object(1)\n",
      "memory usage: 488.0+ bytes\n"
     ]
    }
   ],
   "source": [
    "hypothesis.info()"
   ]
  },
  {
   "cell_type": "code",
   "execution_count": 149,
   "metadata": {},
   "outputs": [
    {
     "data": {
      "text/html": [
       "<div>\n",
       "<style scoped>\n",
       "    .dataframe tbody tr th:only-of-type {\n",
       "        vertical-align: middle;\n",
       "    }\n",
       "\n",
       "    .dataframe tbody tr th {\n",
       "        vertical-align: top;\n",
       "    }\n",
       "\n",
       "    .dataframe thead th {\n",
       "        text-align: right;\n",
       "    }\n",
       "</style>\n",
       "<table border=\"1\" class=\"dataframe\">\n",
       "  <thead>\n",
       "    <tr style=\"text-align: right;\">\n",
       "      <th></th>\n",
       "      <th>date</th>\n",
       "      <th>group</th>\n",
       "      <th>visitors</th>\n",
       "    </tr>\n",
       "  </thead>\n",
       "  <tbody>\n",
       "    <tr>\n",
       "      <th>0</th>\n",
       "      <td>2019-08-01</td>\n",
       "      <td>A</td>\n",
       "      <td>719</td>\n",
       "    </tr>\n",
       "    <tr>\n",
       "      <th>1</th>\n",
       "      <td>2019-08-02</td>\n",
       "      <td>A</td>\n",
       "      <td>619</td>\n",
       "    </tr>\n",
       "    <tr>\n",
       "      <th>2</th>\n",
       "      <td>2019-08-03</td>\n",
       "      <td>A</td>\n",
       "      <td>507</td>\n",
       "    </tr>\n",
       "    <tr>\n",
       "      <th>3</th>\n",
       "      <td>2019-08-04</td>\n",
       "      <td>A</td>\n",
       "      <td>717</td>\n",
       "    </tr>\n",
       "    <tr>\n",
       "      <th>4</th>\n",
       "      <td>2019-08-05</td>\n",
       "      <td>A</td>\n",
       "      <td>756</td>\n",
       "    </tr>\n",
       "  </tbody>\n",
       "</table>\n",
       "</div>"
      ],
      "text/plain": [
       "         date group  visitors\n",
       "0  2019-08-01     A       719\n",
       "1  2019-08-02     A       619\n",
       "2  2019-08-03     A       507\n",
       "3  2019-08-04     A       717\n",
       "4  2019-08-05     A       756"
      ]
     },
     "execution_count": 149,
     "metadata": {},
     "output_type": "execute_result"
    }
   ],
   "source": [
    "visitors.head()"
   ]
  },
  {
   "cell_type": "code",
   "execution_count": 150,
   "metadata": {},
   "outputs": [
    {
     "name": "stdout",
     "output_type": "stream",
     "text": [
      "<class 'pandas.core.frame.DataFrame'>\n",
      "RangeIndex: 62 entries, 0 to 61\n",
      "Data columns (total 3 columns):\n",
      " #   Column    Non-Null Count  Dtype \n",
      "---  ------    --------------  ----- \n",
      " 0   date      62 non-null     object\n",
      " 1   group     62 non-null     object\n",
      " 2   visitors  62 non-null     int64 \n",
      "dtypes: int64(1), object(2)\n",
      "memory usage: 1.6+ KB\n"
     ]
    }
   ],
   "source": [
    "visitors.info()"
   ]
  },
  {
   "cell_type": "markdown",
   "metadata": {},
   "source": [
    "В таблицах `visitors` и `orders` необходимо столбец `date` привести к типу `datetime`:"
   ]
  },
  {
   "cell_type": "code",
   "execution_count": 151,
   "metadata": {},
   "outputs": [],
   "source": [
    "orders['date'] = pd.to_datetime(orders['date'])\n",
    "visitors['date'] = pd.to_datetime(visitors['date'])"
   ]
  },
  {
   "cell_type": "markdown",
   "metadata": {},
   "source": [
    "Теперь перейдем к дубликатам. Для начала проверим их количество в таблицах:"
   ]
  },
  {
   "cell_type": "code",
   "execution_count": 115,
   "metadata": {},
   "outputs": [
    {
     "name": "stdout",
     "output_type": "stream",
     "text": [
      "Количество дубликатов в таблице гипотез: 0\n",
      "Количество дубликатов в таблице заказов: 0\n",
      "Количество дубликатов в таблице пользователей: 0\n"
     ]
    }
   ],
   "source": [
    "print('Количество дубликатов в таблице гипотез:', hypothesis['Hypothesis'].duplicated().sum()) #дубликаты гипотез проверяем по названию\n",
    "print('Количество дубликатов в таблице заказов:', orders['transactionId'].duplicated().sum()) #дубликаты заказов можно проверить по их Id\n",
    "print('Количество дубликатов в таблице пользователей:', visitors.duplicated().sum()) #в таблице данных теста дубликаты могут быть только полными"
   ]
  },
  {
   "cell_type": "markdown",
   "metadata": {},
   "source": [
    "Данные в порядке, можно переходить к приоритизации гипотез."
   ]
  },
  {
   "cell_type": "markdown",
   "metadata": {},
   "source": [
    "### Приоритизация с помощью фреймворка ICE"
   ]
  },
  {
   "cell_type": "markdown",
   "metadata": {},
   "source": [
    "В файле `hypothesis.csv` 9 гипотез по увеличению выручки интернет-магазина с указанными параметрами `Reach`, `Impact`, `Confidence`, `Effort`. Проведем приоритизацию гипотез с помощью фреймворка `ICE`. Для этого создадим новый столбец `ICE` в таблице `hypothesis` и по нему же отсортируем таблицу:"
   ]
  },
  {
   "cell_type": "code",
   "execution_count": 116,
   "metadata": {},
   "outputs": [
    {
     "data": {
      "text/html": [
       "<div>\n",
       "<style scoped>\n",
       "    .dataframe tbody tr th:only-of-type {\n",
       "        vertical-align: middle;\n",
       "    }\n",
       "\n",
       "    .dataframe tbody tr th {\n",
       "        vertical-align: top;\n",
       "    }\n",
       "\n",
       "    .dataframe thead th {\n",
       "        text-align: right;\n",
       "    }\n",
       "</style>\n",
       "<table border=\"1\" class=\"dataframe\">\n",
       "  <thead>\n",
       "    <tr style=\"text-align: right;\">\n",
       "      <th></th>\n",
       "      <th>Hypothesis</th>\n",
       "      <th>ICE</th>\n",
       "    </tr>\n",
       "  </thead>\n",
       "  <tbody>\n",
       "    <tr>\n",
       "      <th>8</th>\n",
       "      <td>Запустить акцию, дающую скидку на товар в день рождения</td>\n",
       "      <td>16.20</td>\n",
       "    </tr>\n",
       "    <tr>\n",
       "      <th>0</th>\n",
       "      <td>Добавить два новых канала привлечения трафика, что позволит привлекать на 30% больше пользователей</td>\n",
       "      <td>13.33</td>\n",
       "    </tr>\n",
       "    <tr>\n",
       "      <th>7</th>\n",
       "      <td>Добавить форму подписки на все основные страницы, чтобы собрать базу клиентов для email-рассылок</td>\n",
       "      <td>11.20</td>\n",
       "    </tr>\n",
       "    <tr>\n",
       "      <th>6</th>\n",
       "      <td>Показать на главной странице баннеры с актуальными акциями и распродажами, чтобы увеличить конверсию</td>\n",
       "      <td>8.00</td>\n",
       "    </tr>\n",
       "    <tr>\n",
       "      <th>2</th>\n",
       "      <td>Добавить блоки рекомендаций товаров на сайт интернет магазина, чтобы повысить конверсию и средний чек заказа</td>\n",
       "      <td>7.00</td>\n",
       "    </tr>\n",
       "    <tr>\n",
       "      <th>1</th>\n",
       "      <td>Запустить собственную службу доставки, что сократит срок доставки заказов</td>\n",
       "      <td>2.00</td>\n",
       "    </tr>\n",
       "    <tr>\n",
       "      <th>5</th>\n",
       "      <td>Добавить страницу отзывов клиентов о магазине, что позволит увеличить количество заказов</td>\n",
       "      <td>1.33</td>\n",
       "    </tr>\n",
       "    <tr>\n",
       "      <th>3</th>\n",
       "      <td>Изменить структура категорий, что увеличит конверсию, т.к. пользователи быстрее найдут нужный товар</td>\n",
       "      <td>1.12</td>\n",
       "    </tr>\n",
       "    <tr>\n",
       "      <th>4</th>\n",
       "      <td>Изменить цвет фона главной страницы, чтобы увеличить вовлеченность пользователей</td>\n",
       "      <td>1.00</td>\n",
       "    </tr>\n",
       "  </tbody>\n",
       "</table>\n",
       "</div>"
      ],
      "text/plain": [
       "                                                                                                     Hypothesis  \\\n",
       "8                                                       Запустить акцию, дающую скидку на товар в день рождения   \n",
       "0            Добавить два новых канала привлечения трафика, что позволит привлекать на 30% больше пользователей   \n",
       "7              Добавить форму подписки на все основные страницы, чтобы собрать базу клиентов для email-рассылок   \n",
       "6          Показать на главной странице баннеры с актуальными акциями и распродажами, чтобы увеличить конверсию   \n",
       "2  Добавить блоки рекомендаций товаров на сайт интернет магазина, чтобы повысить конверсию и средний чек заказа   \n",
       "1                                     Запустить собственную службу доставки, что сократит срок доставки заказов   \n",
       "5                      Добавить страницу отзывов клиентов о магазине, что позволит увеличить количество заказов   \n",
       "3           Изменить структура категорий, что увеличит конверсию, т.к. пользователи быстрее найдут нужный товар   \n",
       "4                              Изменить цвет фона главной страницы, чтобы увеличить вовлеченность пользователей   \n",
       "\n",
       "     ICE  \n",
       "8  16.20  \n",
       "0  13.33  \n",
       "7  11.20  \n",
       "6   8.00  \n",
       "2   7.00  \n",
       "1   2.00  \n",
       "5   1.33  \n",
       "3   1.12  \n",
       "4   1.00  "
      ]
     },
     "execution_count": 116,
     "metadata": {},
     "output_type": "execute_result"
    }
   ],
   "source": [
    "hypothesis['ICE'] = round((hypothesis['Impact'] * hypothesis['Confidence'])/hypothesis['Efforts'],2)\n",
    "\n",
    "hypothesis[['Hypothesis','ICE']].sort_values(by='ICE',ascending=False)"
   ]
  },
  {
   "cell_type": "markdown",
   "metadata": {},
   "source": [
    "Видно что 4 наиболее перспективных гипотезы это:\n",
    "- Запустить акцию, дающую скидку на товар в день рождения\n",
    "- Добавить два новых канала привлечения трафика, что позволит привлекать на 30% больше пользователей\t\n",
    "- Добавить форму подписки на все основные страницы, чтобы собрать базу клиентов для email-рассылок\n",
    "- Показать на главной странице баннеры с актуальными акциями и распродажами, чтобы увеличить конверсию"
   ]
  },
  {
   "cell_type": "markdown",
   "metadata": {},
   "source": [
    "### Приоритизация с помощью фреймворка RICE"
   ]
  },
  {
   "cell_type": "markdown",
   "metadata": {},
   "source": [
    "Теперь произведем расчеты для фреймворка `RICE` : "
   ]
  },
  {
   "cell_type": "code",
   "execution_count": 117,
   "metadata": {},
   "outputs": [
    {
     "data": {
      "text/html": [
       "<div>\n",
       "<style scoped>\n",
       "    .dataframe tbody tr th:only-of-type {\n",
       "        vertical-align: middle;\n",
       "    }\n",
       "\n",
       "    .dataframe tbody tr th {\n",
       "        vertical-align: top;\n",
       "    }\n",
       "\n",
       "    .dataframe thead th {\n",
       "        text-align: right;\n",
       "    }\n",
       "</style>\n",
       "<table border=\"1\" class=\"dataframe\">\n",
       "  <thead>\n",
       "    <tr style=\"text-align: right;\">\n",
       "      <th></th>\n",
       "      <th>Hypothesis</th>\n",
       "      <th>RICE</th>\n",
       "    </tr>\n",
       "  </thead>\n",
       "  <tbody>\n",
       "    <tr>\n",
       "      <th>7</th>\n",
       "      <td>Добавить форму подписки на все основные страницы, чтобы собрать базу клиентов для email-рассылок</td>\n",
       "      <td>112.0</td>\n",
       "    </tr>\n",
       "    <tr>\n",
       "      <th>2</th>\n",
       "      <td>Добавить блоки рекомендаций товаров на сайт интернет магазина, чтобы повысить конверсию и средний чек заказа</td>\n",
       "      <td>56.0</td>\n",
       "    </tr>\n",
       "    <tr>\n",
       "      <th>0</th>\n",
       "      <td>Добавить два новых канала привлечения трафика, что позволит привлекать на 30% больше пользователей</td>\n",
       "      <td>40.0</td>\n",
       "    </tr>\n",
       "    <tr>\n",
       "      <th>6</th>\n",
       "      <td>Показать на главной странице баннеры с актуальными акциями и распродажами, чтобы увеличить конверсию</td>\n",
       "      <td>40.0</td>\n",
       "    </tr>\n",
       "    <tr>\n",
       "      <th>8</th>\n",
       "      <td>Запустить акцию, дающую скидку на товар в день рождения</td>\n",
       "      <td>16.2</td>\n",
       "    </tr>\n",
       "    <tr>\n",
       "      <th>3</th>\n",
       "      <td>Изменить структура категорий, что увеличит конверсию, т.к. пользователи быстрее найдут нужный товар</td>\n",
       "      <td>9.0</td>\n",
       "    </tr>\n",
       "    <tr>\n",
       "      <th>1</th>\n",
       "      <td>Запустить собственную службу доставки, что сократит срок доставки заказов</td>\n",
       "      <td>4.0</td>\n",
       "    </tr>\n",
       "    <tr>\n",
       "      <th>5</th>\n",
       "      <td>Добавить страницу отзывов клиентов о магазине, что позволит увеличить количество заказов</td>\n",
       "      <td>4.0</td>\n",
       "    </tr>\n",
       "    <tr>\n",
       "      <th>4</th>\n",
       "      <td>Изменить цвет фона главной страницы, чтобы увеличить вовлеченность пользователей</td>\n",
       "      <td>3.0</td>\n",
       "    </tr>\n",
       "  </tbody>\n",
       "</table>\n",
       "</div>"
      ],
      "text/plain": [
       "                                                                                                     Hypothesis  \\\n",
       "7              Добавить форму подписки на все основные страницы, чтобы собрать базу клиентов для email-рассылок   \n",
       "2  Добавить блоки рекомендаций товаров на сайт интернет магазина, чтобы повысить конверсию и средний чек заказа   \n",
       "0            Добавить два новых канала привлечения трафика, что позволит привлекать на 30% больше пользователей   \n",
       "6          Показать на главной странице баннеры с актуальными акциями и распродажами, чтобы увеличить конверсию   \n",
       "8                                                       Запустить акцию, дающую скидку на товар в день рождения   \n",
       "3           Изменить структура категорий, что увеличит конверсию, т.к. пользователи быстрее найдут нужный товар   \n",
       "1                                     Запустить собственную службу доставки, что сократит срок доставки заказов   \n",
       "5                      Добавить страницу отзывов клиентов о магазине, что позволит увеличить количество заказов   \n",
       "4                              Изменить цвет фона главной страницы, чтобы увеличить вовлеченность пользователей   \n",
       "\n",
       "    RICE  \n",
       "7  112.0  \n",
       "2   56.0  \n",
       "0   40.0  \n",
       "6   40.0  \n",
       "8   16.2  \n",
       "3    9.0  \n",
       "1    4.0  \n",
       "5    4.0  \n",
       "4    3.0  "
      ]
     },
     "execution_count": 117,
     "metadata": {},
     "output_type": "execute_result"
    }
   ],
   "source": [
    "hypothesis['RICE'] = (hypothesis['Reach'] * hypothesis['Impact'] * hypothesis['Confidence'])/hypothesis['Efforts']\n",
    "\n",
    "hypothesis[['Hypothesis','RICE']].sort_values(by='RICE',ascending=False)"
   ]
  },
  {
   "cell_type": "markdown",
   "metadata": {},
   "source": [
    "Теперь ТОП-4 гипотез состоит из номеров 1, 3, 7, 8\n",
    "Из необычного - в топ вырвалась гипотеза 3, а гипотеза 9 заняла лишь 5 место.\n",
    "Посмотрим на полные названия гипотез:"
   ]
  },
  {
   "cell_type": "code",
   "execution_count": 118,
   "metadata": {},
   "outputs": [
    {
     "data": {
      "text/plain": [
       "'Добавить блоки рекомендаций товаров на сайт интернет магазина, чтобы повысить конверсию и средний чек заказа'"
      ]
     },
     "execution_count": 118,
     "metadata": {},
     "output_type": "execute_result"
    }
   ],
   "source": [
    "hypothesis.loc[2,'Hypothesis']"
   ]
  },
  {
   "cell_type": "code",
   "execution_count": 119,
   "metadata": {},
   "outputs": [
    {
     "data": {
      "text/plain": [
       "'Запустить акцию, дающую скидку на товар в день рождения'"
      ]
     },
     "execution_count": 119,
     "metadata": {},
     "output_type": "execute_result"
    }
   ],
   "source": [
    "hypothesis.loc[8,'Hypothesis']"
   ]
  },
  {
   "cell_type": "markdown",
   "metadata": {},
   "source": [
    "Теперь все встает на свои места. Гипотеза 3 охватывает всех посетителей интернет магазина, показатель `Reach` достаточно высокий. А вот гипотеза 9 охватывает только тех пользователей, у которых будет день рождения в ближайшее время, за счет этого показатель `Reach` достаточно небольшой.\n",
    "\n",
    "**Вывод:** Самыми перспективными гипотезами являются 8, 3, 1 и 7. Неплохим вариантом могла стать гипотеза номер 9, но ее охват пользователей слишком мал."
   ]
  },
  {
   "cell_type": "markdown",
   "metadata": {},
   "source": [
    "<div class=\"alert alert-success\">\n",
    "<h2> Комментарий ревьюера 😊<a class=\"tocSkip\"> </h2>\n",
    "    \n",
    "Приоритизация гипотез проведена успешно! Молодец, что выводишь таблицу дважды, каждый раз с сортировкой по одному из фреймоврков, так различия в их работе будут максимально наглядными. Согласна с твоими выводами по поводу их различия. Будет здорово добавить в начало небольшое описание фремворков, в выводе вместе с номером, стоит указать полное название гипотез. \n",
    "</div>   "
   ]
  },
  {
   "cell_type": "markdown",
   "metadata": {},
   "source": [
    "## Анализ A/B теста"
   ]
  },
  {
   "cell_type": "markdown",
   "metadata": {},
   "source": [
    "### Анализ кумулятивных метрик"
   ]
  },
  {
   "cell_type": "markdown",
   "metadata": {},
   "source": [
    "**1. Постройте график кумулятивной выручки по группам**\n",
    "\n",
    "Чтобы построить графики, нужно собрать кумулятивные данные. Объявим датафрейм `cumulativeData` со столбцами: \n",
    "\n",
    "- `date` — дата;\n",
    "- `group` — группа A/B-теста (A или B);\n",
    "- `orders` — кумулятивное количество заказов на указанную дату в указанной группе;\n",
    "- `buyers` — кумулятивное количество пользователей, совершивших хотя бы один заказ, на указанную дату в указанной группе;\n",
    "- `revenue` — кумулятивная выручка на указанную дату в указанной группе (средний чек);\n",
    "- `visitors` — кумулятивное количество посетителей интернет-магазина на указанную дату в определённой группе."
   ]
  },
  {
   "cell_type": "code",
   "execution_count": 120,
   "metadata": {},
   "outputs": [
    {
     "name": "stdout",
     "output_type": "stream",
     "text": [
      "        date group  orders  buyers  revenue  visitors\n",
      "0 2019-08-01     A      24      20   148579       719\n",
      "1 2019-08-01     B      21      20   101217       713\n",
      "2 2019-08-02     A      44      38   242401      1338\n",
      "3 2019-08-02     B      45      43   266748      1294\n",
      "4 2019-08-03     A      68      62   354874      1845\n"
     ]
    }
   ],
   "source": [
    "# создаем массив уникальных пар значений дат и групп теста\n",
    "datesGroups = orders[['date','group']].drop_duplicates()\n",
    "\n",
    "# получаем агрегированные кумулятивные по дням данные о заказах \n",
    "ordersAggregated = datesGroups.apply(lambda x: orders[np.logical_and(orders['date'] <= x['date'], \n",
    "                                                                     orders['group'] == x['group'])]\n",
    "                                     .agg({'date' : 'max',\n",
    "                                           'group' : 'max', \n",
    "                                           'transactionId' : 'nunique',\n",
    "                                           'visitorId' : 'nunique', \n",
    "                                           'revenue' : 'sum'}), axis=1).sort_values(by=['date','group'])\n",
    "\n",
    "# получаем агрегированные кумулятивные по дням данные о посетителях интернет-магазина \n",
    "visitorsAggregated = datesGroups.apply(lambda x: visitors[np.logical_and(visitors['date'] <= x['date'], \n",
    "                                                                         visitors['group'] == x['group'])].\n",
    "                                       agg({'date' : 'max', \n",
    "                                            'group' : 'max', \n",
    "                                            'visitors' : 'sum'}), axis=1).sort_values(by=['date','group'])\n",
    "\n",
    "# объединяем кумулятивные данные в одной таблице и присваиваем ее столбцам понятные названия\n",
    "cumulativeData = ordersAggregated.merge(visitorsAggregated, left_on=['date', 'group'], right_on=['date', 'group'])\n",
    "cumulativeData.columns = ['date', 'group', 'orders', 'buyers', 'revenue', 'visitors']\n",
    "\n",
    "print(cumulativeData.head(5))"
   ]
  },
  {
   "cell_type": "markdown",
   "metadata": {},
   "source": [
    "Построим графики кумулятивной выручки по группам:"
   ]
  },
  {
   "cell_type": "code",
   "execution_count": 121,
   "metadata": {
    "scrolled": true
   },
   "outputs": [
    {
     "data": {
      "image/png": "[encoded data removed]",
      "text/plain": [
       "<Figure size 1080x360 with 1 Axes>"
      ]
     },
     "metadata": {
      "needs_background": "light"
     },
     "output_type": "display_data"
    }
   ],
   "source": [
    "# датафрейм с кумулятивным количеством заказов и кумулятивной выручкой по дням в группе А\n",
    "cumulativeRevenueA = cumulativeData[cumulativeData['group']=='A'][['date','revenue', 'orders']]\n",
    "\n",
    "# датафрейм с кумулятивным количеством заказов и кумулятивной выручкой по дням в группе B\n",
    "cumulativeRevenueB = cumulativeData[cumulativeData['group']=='B'][['date','revenue', 'orders']]\n",
    "\n",
    "plt.figure(figsize = (15,5))\n",
    "\n",
    "# Строим график выручки группы А\n",
    "plt.plot(cumulativeRevenueA['date'], cumulativeRevenueA['revenue'], label='A')\n",
    "\n",
    "# Строим график выручки группы B\n",
    "plt.plot(cumulativeRevenueB['date'], cumulativeRevenueB['revenue'], label='B')\n",
    "\n",
    "plt.title('Кумулятивная выручка по группам')\n",
    "plt.xlabel('День')\n",
    "plt.ylabel('Выручка')\n",
    "plt.legend()\n",
    "plt.show()"
   ]
  },
  {
   "cell_type": "markdown",
   "metadata": {},
   "source": [
    "Выручка равномерно увеличивается в течение всего теста в группе А, что достаточно хороший показатель. А вот в группе В есть один резкий скачок. Возможных причины две. Первая - резко возросло количество заказов. Вторая - в выборке появились очень дорогие заказы, аномальные значения. \n",
    "\n",
    "\n",
    "**2. Постройте график кумулятивного среднего чека по группам**"
   ]
  },
  {
   "cell_type": "code",
   "execution_count": 122,
   "metadata": {},
   "outputs": [
    {
     "data": {
      "image/png": "[encoded data removed]",
      "text/plain": [
       "<Figure size 1080x360 with 1 Axes>"
      ]
     },
     "metadata": {
      "needs_background": "light"
     },
     "output_type": "display_data"
    }
   ],
   "source": [
    "plt.figure(figsize = (15,5))\n",
    "plt.title('Кумулятивный средний чек по группам')\n",
    "plt.xlabel('День')\n",
    "plt.ylabel('Средний чек')\n",
    "plt.plot(cumulativeRevenueA['date'], cumulativeRevenueA['revenue']/cumulativeRevenueA['orders'], label='A')\n",
    "plt.plot(cumulativeRevenueB['date'], cumulativeRevenueB['revenue']/cumulativeRevenueB['orders'], label='B')\n",
    "plt.legend()\n",
    "plt.show()"
   ]
  },
  {
   "cell_type": "markdown",
   "metadata": {},
   "source": [
    "Средничк чек групп становится равномерным ближе к концу тестирования, однако у группы В снова есть резкий скачок в том же периоде как и у графика выручки. Теперь с уверенностью можно сказать что заказы с аномально большой суммой присутствуют в выборке В. Так как если бы был большой приток заказов со средней суммой, значение среднего чека не выросло бы так сильно. Необходим дальнейший анализ.\n",
    "\n",
    "**3. Постройте график относительного изменения кумулятивного среднего чека группы B к группе A**\n",
    "\n",
    "Добавим горизонтальную ось у=0 на график: "
   ]
  },
  {
   "cell_type": "code",
   "execution_count": 123,
   "metadata": {},
   "outputs": [
    {
     "data": {
      "image/png": "[encoded data removed]",
      "text/plain": [
       "<Figure size 1080x360 with 1 Axes>"
      ]
     },
     "metadata": {
      "needs_background": "light"
     },
     "output_type": "display_data"
    }
   ],
   "source": [
    "# собираем данные в одном датафрейме\n",
    "mergedCumulativeRevenue = cumulativeRevenueA.merge(cumulativeRevenueB, left_on='date', right_on='date', how='left', suffixes=['A', 'B'])\n",
    "\n",
    "plt.figure(figsize = (15,5))\n",
    "plt.xlabel('День')\n",
    "plt.ylabel('Относительная разница')\n",
    "plt.title('Относительное изменение кумулятивного среднего чека группы В к группе А')\n",
    "# cтроим отношение средних чеков\n",
    "plt.plot(mergedCumulativeRevenue['date'], (mergedCumulativeRevenue['revenueB']/mergedCumulativeRevenue['ordersB'])/(mergedCumulativeRevenue['revenueA']/mergedCumulativeRevenue['ordersA'])-1)\n",
    "\n",
    "# добавляем ось X\n",
    "plt.axhline(y=0, color='black', linestyle='--')\n",
    "plt.show()"
   ]
  },
  {
   "cell_type": "markdown",
   "metadata": {},
   "source": [
    "Наличие выбросов снова подтверждается - есть несколько резких скачков разницы в выборках. При этом можно отметить что разница не осталась стабильной - она продолжает уменьшаться. Возможно произошло влияние выброса в выборке В а теперь оно постепенно \"уравновешивается\" объемом данных.\n",
    "\n",
    "**4. Постройте график кумулятивного среднего количества заказов на посетителя по группам**\n",
    "\n",
    "По сути необходимо посчитать кумулятивную конверсию в группах. Для этого можно столбец `orders` разделить на столбец `visitors` в таблице `cumulativeData`:"
   ]
  },
  {
   "cell_type": "code",
   "execution_count": 124,
   "metadata": {},
   "outputs": [
    {
     "data": {
      "image/png": "[encoded data removed]",
      "text/plain": [
       "<Figure size 1080x360 with 1 Axes>"
      ]
     },
     "metadata": {
      "needs_background": "light"
     },
     "output_type": "display_data"
    }
   ],
   "source": [
    "# считаем кумулятивную конверсию\n",
    "cumulativeData['conversion'] = cumulativeData['orders']/cumulativeData['visitors']\n",
    "\n",
    "# отделяем данные по группе A\n",
    "cumulativeDataA = cumulativeData[cumulativeData['group']=='A']\n",
    "\n",
    "# отделяем данные по группе B\n",
    "cumulativeDataB = cumulativeData[cumulativeData['group']=='B']\n",
    "\n",
    "plt.figure(figsize=(15,5))\n",
    "plt.xlabel('День')\n",
    "plt.ylabel('Среднее количество заказов')\n",
    "plt.title('Кумулятивное среднее количество заказов на посетителя по группам')\n",
    "\n",
    "# строим графики\n",
    "plt.plot(cumulativeDataA['date'], cumulativeDataA['conversion'], label='A')\n",
    "plt.plot(cumulativeDataB['date'], cumulativeDataB['conversion'], label='B')\n",
    "plt.legend();"
   ]
  },
  {
   "cell_type": "markdown",
   "metadata": {},
   "source": [
    "В начале теста группы колебались, но потом вышли на примерно одинаковое среднее значение, при том у группы В среднее количество заказов на человека значительно выше.\n",
    "\n",
    "**5. Постройте график относительного изменения кумулятивного среднего количества заказов на посетителя группы B к группе A**"
   ]
  },
  {
   "cell_type": "code",
   "execution_count": 125,
   "metadata": {},
   "outputs": [
    {
     "data": {
      "image/png": "[encoded data removed]",
      "text/plain": [
       "<Figure size 1080x360 with 1 Axes>"
      ]
     },
     "metadata": {
      "needs_background": "light"
     },
     "output_type": "display_data"
    }
   ],
   "source": [
    "mergedCumulativeConversions = cumulativeDataA[['date','conversion']].merge(cumulativeDataB[['date','conversion']], left_on='date', right_on='date', how='left', suffixes=['A', 'B'])\n",
    "\n",
    "plt.figure(figsize = (15,5))\n",
    "plt.xlabel('День')\n",
    "plt.ylabel('Относительная разница')\n",
    "plt.title('Относительное изменение кумулятивного среднего количества заказов на посетителя группы В к группе А')\n",
    "plt.plot(mergedCumulativeConversions['date'], mergedCumulativeConversions['conversionB']/mergedCumulativeConversions['conversionA']-1)\n",
    "\n",
    "plt.axhline(y=0, color='black', linestyle='--')\n",
    "plt.axhline(y=-0.1, color='grey', linestyle='--');"
   ]
  },
  {
   "cell_type": "markdown",
   "metadata": {},
   "source": [
    "Конверсия группы В сначала колебалась, но потом вырвалась сильно вперед относительно группы А и теперь держится постепенно уменьшается."
   ]
  },
  {
   "cell_type": "markdown",
   "metadata": {},
   "source": [
    "### Анализ аномальных значений \n",
    "\n",
    "**6. Постройте точечный график количества заказов по пользователям**\n",
    "\n",
    "Для начала подсчитаем количество заказов по пользователям:"
   ]
  },
  {
   "cell_type": "code",
   "execution_count": 126,
   "metadata": {},
   "outputs": [
    {
     "name": "stdout",
     "output_type": "stream",
     "text": [
      "       visitorId  orders\n",
      "1023  4256040402      11\n",
      "591   2458001652      11\n",
      "569   2378935119       9\n",
      "487   2038680547       8\n",
      "44     199603092       5\n",
      "744   3062433592       5\n",
      "55     237748145       5\n",
      "917   3803269165       5\n",
      "299   1230306981       5\n",
      "897   3717692402       5\n"
     ]
    }
   ],
   "source": [
    "ordersByUsers = (\n",
    "    orders.groupby('visitorId', as_index=False)\n",
    "    .agg({'transactionId': 'nunique'})\n",
    ")\n",
    "\n",
    "ordersByUsers.columns = ['visitorId', 'orders']\n",
    "\n",
    "print(ordersByUsers.sort_values(by='orders', ascending=False).head(10)) "
   ]
  },
  {
   "cell_type": "markdown",
   "metadata": {},
   "source": [
    "Заметим что есть пользователи которые совершили 8, 9 и даже 11 заказов что достаточно много. Нам необходимо построить точечную диаграмму распределения количества заказов на пользователя:"
   ]
  },
  {
   "cell_type": "code",
   "execution_count": 127,
   "metadata": {},
   "outputs": [
    {
     "data": {
      "image/png": "[encoded data removed]",
      "text/plain": [
       "<Figure size 432x288 with 1 Axes>"
      ]
     },
     "metadata": {
      "needs_background": "light"
     },
     "output_type": "display_data"
    }
   ],
   "source": [
    "x_values = pd.Series(range(0,len(ordersByUsers)))\n",
    "\n",
    "plt.title('Распределение по количеству заказов на пользователя')\n",
    "\n",
    "plt.scatter(x_values, ordersByUsers['orders'])\n",
    "plt.show()"
   ]
  },
  {
   "cell_type": "markdown",
   "metadata": {},
   "source": [
    "Как видим - большинство пользователей совершают от 1 до 3 заказов. Однако их точная доля не ясна, необходим дальнейший анализ.\n",
    "\n",
    "**7. Посчитайте 95-й и 99-й перцентили количества заказов на пользователя. Выберите границу для определения аномальных пользователей**\n",
    "\n",
    "Для этого воспользуемся функцией `percentile`:"
   ]
  },
  {
   "cell_type": "code",
   "execution_count": 128,
   "metadata": {},
   "outputs": [
    {
     "name": "stdout",
     "output_type": "stream",
     "text": [
      "[1. 2. 4.]\n"
     ]
    }
   ],
   "source": [
    "print(np.percentile(ordersByUsers['orders'], [90, 95, 99]))"
   ]
  },
  {
   "cell_type": "markdown",
   "metadata": {},
   "source": [
    "Не более 5% пользователей оформляли больше чем 2 заказа. И 10% пользователей заказывали более одного раза. Как оказалось, можно даже отсечь пользователей с 3 заказами. \n",
    "\n",
    "Так как фильтрация идет по двум параметрам, то воспользуемся ограничением на 99 перцентиль и отбросим пользователей у которых более 4 заказов. \n",
    "\n",
    "**8. Построим точечный график стоимостей заказов**\n",
    "\n",
    "Произведем действия аналогичные 7 пункту:"
   ]
  },
  {
   "cell_type": "code",
   "execution_count": 129,
   "metadata": {},
   "outputs": [
    {
     "data": {
      "image/png": "[encoded data removed]",
      "text/plain": [
       "<Figure size 432x288 with 1 Axes>"
      ]
     },
     "metadata": {
      "needs_background": "light"
     },
     "output_type": "display_data"
    }
   ],
   "source": [
    "x_values = pd.Series(range(0,len(orders['revenue'])))\n",
    "\n",
    "plt.title('Распределение по стоимости заказа')\n",
    "plt.scatter(x_values, orders['revenue']);"
   ]
  },
  {
   "cell_type": "markdown",
   "metadata": {},
   "source": [
    "На графике можно заметить, что есть одно аномально большое значение, остальные заказы находятся примерно на одном уровне. Скорее всего этот аномальный заказ попал в выборку В чем и исказил результаты анализа. \n",
    "\n",
    "**9. Посчитайте 95-й и 99-й перцентили стоимости заказов. Выберите границу для определения аномальных заказов**"
   ]
  },
  {
   "cell_type": "code",
   "execution_count": 130,
   "metadata": {},
   "outputs": [
    {
     "name": "stdout",
     "output_type": "stream",
     "text": [
      "[18168.  28000.  58233.2]\n"
     ]
    }
   ],
   "source": [
    "print(np.percentile(orders['revenue'], [90, 95, 99])) "
   ]
  },
  {
   "cell_type": "markdown",
   "metadata": {},
   "source": [
    "Таким образом не более 5% заказов дороже 28000 рублей и не более 1% дороже 58233 рублей. Тогда примем границу для аномальных заказов в 58233.2 рубля."
   ]
  },
  {
   "cell_type": "markdown",
   "metadata": {},
   "source": [
    "### Расчет с разделением на \"сырые\" и \"очищенные\" данные"
   ]
  },
  {
   "cell_type": "markdown",
   "metadata": {},
   "source": [
    "**10. Посчитайте статистическую значимость различий в среднем количестве заказов на посетителя между группами по «сырым» данным**\n",
    "\n",
    "Сформулируем гипотезы. Нулевая: различий в среднем количестве заказов между группами нет. Альтернативная: различия в среднем между группами есть.\n",
    "Начнём с подготовки данных. Создадим таблицу `data_row` содержащую сырые данные по заказам со следующими названиями столбцов:\n",
    "\n",
    "- `date` — дата;\n",
    "- `ordersPerDateA` — количество заказов в выбранную дату в группе A;\n",
    "- `revenuePerDateA` — суммарная выручка в выбранную дату в группе A;\n",
    "- `ordersPerDateB` — количество заказов в выбранную дату в группе B;\n",
    "- `revenuePerDateB` — суммарная выручка в выбранную дату в группе B;\n",
    "- `ordersCummulativeA` — суммарное число заказов до выбранной даты включительно в группе A;\n",
    "- `revenueCummulativeA` — суммарная выручка до выбранной даты включительно в группе A;\n",
    "- `ordersCummulativeB` — суммарное количество заказов до выбранной даты включительно в группе B;\n",
    "- `revenueCummulativeB` — суммарная выручка до выбранной даты включительно в группе B;\n",
    "- `visitorsPerDateA` — количество пользователей в выбранную дату в группе A;\n",
    "- `visitorsPerDateB` — количество пользователей в выбранную дату в группе B;\n",
    "- `visitorsCummulativeA` — количество пользователей до выбранной даты включительно в группе A;\n",
    "- `visitorsCummulativeB` — количество пользователей до выбранной даты включительно в группе B."
   ]
  },
  {
   "cell_type": "code",
   "execution_count": 131,
   "metadata": {},
   "outputs": [
    {
     "name": "stdout",
     "output_type": "stream",
     "text": [
      "        date  ordersPerDateA  revenuePerDateA  ordersPerDateB  \\\n",
      "0 2019-08-01              24           148579              21   \n",
      "1 2019-08-02              20            93822              24   \n",
      "2 2019-08-03              24           112473              16   \n",
      "3 2019-08-04              16            70825              17   \n",
      "4 2019-08-05              25           124218              23   \n",
      "\n",
      "   revenuePerDateB  ordersCummulativeA  revenueCummulativeA  \\\n",
      "0           101217                  24               148579   \n",
      "1           165531                  44               242401   \n",
      "2           114248                  68               354874   \n",
      "3           108571                  84               425699   \n",
      "4            92428                 109               549917   \n",
      "\n",
      "   ordersCummulativeB  revenueCummulativeB  visitorsPerDateA  \\\n",
      "0                  21               101217               719   \n",
      "1                  45               266748               619   \n",
      "2                  61               380996               507   \n",
      "3                  78               489567               717   \n",
      "4                 101               581995               756   \n",
      "\n",
      "   visitorsPerDateB  visitorsCummulativeA  visitorsCummulativeB  \n",
      "0               713                   719                   713  \n",
      "1               581                  1338                  1294  \n",
      "2               509                  1845                  1803  \n",
      "3               770                  2562                  2573  \n",
      "4               707                  3318                  3280  \n"
     ]
    }
   ],
   "source": [
    "visitorsADaily = visitors[visitors['group'] == 'A'][['date', 'visitors']]\n",
    "visitorsADaily.columns = ['date', 'visitorsPerDateA']\n",
    "\n",
    "visitorsACummulative = visitorsADaily.apply(\n",
    "    lambda x: visitorsADaily[visitorsADaily['date'] <= x['date']].agg(\n",
    "        {'date': 'max', 'visitorsPerDateA': 'sum'}\n",
    "    ),\n",
    "    axis=1,\n",
    ")\n",
    "visitorsACummulative.columns = ['date', 'visitorsCummulativeA']\n",
    "\n",
    "visitorsBDaily = visitors[visitors['group'] == 'B'][['date', 'visitors']]\n",
    "visitorsBDaily.columns = ['date', 'visitorsPerDateB']\n",
    "\n",
    "visitorsBCummulative = visitorsBDaily.apply(\n",
    "    lambda x: visitorsBDaily[visitorsBDaily['date'] <= x['date']].agg(\n",
    "        {'date': 'max', 'visitorsPerDateB': 'sum'}\n",
    "    ),\n",
    "    axis=1,\n",
    ")\n",
    "visitorsBCummulative.columns = ['date', 'visitorsCummulativeB']\n",
    "\n",
    "ordersADaily = (\n",
    "    orders[orders['group'] == 'A'][['date', 'transactionId', 'visitorId', 'revenue']]\n",
    "    .groupby('date', as_index=False)\n",
    "    .agg({'transactionId': pd.Series.nunique, 'revenue': 'sum'})\n",
    ")\n",
    "ordersADaily.columns = ['date', 'ordersPerDateA', 'revenuePerDateA']\n",
    "\n",
    "ordersACummulative = ordersADaily.apply(\n",
    "    lambda x: ordersADaily[ordersADaily['date'] <= x['date']].agg(\n",
    "        {'date': 'max', 'ordersPerDateA': 'sum', 'revenuePerDateA': 'sum'}\n",
    "    ),\n",
    "    axis=1,\n",
    ").sort_values(by=['date'])\n",
    "ordersACummulative.columns = [\n",
    "    'date',\n",
    "    'ordersCummulativeA',\n",
    "    'revenueCummulativeA',\n",
    "]\n",
    "\n",
    "ordersBDaily = (\n",
    "    orders[orders['group'] == 'B'][['date', 'transactionId', 'visitorId', 'revenue']]\n",
    "    .groupby('date', as_index=False)\n",
    "    .agg({'transactionId': pd.Series.nunique, 'revenue': 'sum'})\n",
    ")\n",
    "ordersBDaily.columns = ['date', 'ordersPerDateB', 'revenuePerDateB']\n",
    "\n",
    "ordersBCummulative = ordersBDaily.apply(\n",
    "    lambda x: ordersBDaily[ordersBDaily['date'] <= x['date']].agg(\n",
    "        {'date': 'max', 'ordersPerDateB': 'sum', 'revenuePerDateB': 'sum'}\n",
    "    ),\n",
    "    axis=1,\n",
    ").sort_values(by=['date'])\n",
    "ordersBCummulative.columns = [\n",
    "    'date',\n",
    "    'ordersCummulativeB',\n",
    "    'revenueCummulativeB',\n",
    "]\n",
    "\n",
    "data_row = (\n",
    "    ordersADaily.merge(\n",
    "        ordersBDaily, left_on='date', right_on='date', how='left'\n",
    "    )\n",
    "    .merge(ordersACummulative, left_on='date', right_on='date', how='left')\n",
    "    .merge(ordersBCummulative, left_on='date', right_on='date', how='left')\n",
    "    .merge(visitorsADaily, left_on='date', right_on='date', how='left')\n",
    "    .merge(visitorsBDaily, left_on='date', right_on='date', how='left')\n",
    "    .merge(visitorsACummulative, left_on='date', right_on='date', how='left')\n",
    "    .merge(visitorsBCummulative, left_on='date', right_on='date', how='left')\n",
    ")\n",
    "\n",
    "print(data_row.head(5))"
   ]
  },
  {
   "cell_type": "markdown",
   "metadata": {},
   "source": [
    "Создадим переменные ordersByUsersA и ordersByUsersB со столбцами `['userId', 'orders']`. В них для пользователей, которые заказывали хотя бы 1 раз, укажем число совершённых заказов."
   ]
  },
  {
   "cell_type": "code",
   "execution_count": 132,
   "metadata": {},
   "outputs": [],
   "source": [
    "ordersByUsersA = (\n",
    "    orders[orders['group'] == 'A']\n",
    "    .groupby('visitorId', as_index=False)\n",
    "    .agg({'transactionId': pd.Series.nunique})\n",
    ")\n",
    "ordersByUsersA.columns = ['userId', 'orders']\n",
    "\n",
    "ordersByUsersB = (\n",
    "    orders[orders['group'] == 'B']\n",
    "    .groupby('visitorId', as_index=False)\n",
    "    .agg({'transactionId': pd.Series.nunique})\n",
    ")\n",
    "ordersByUsersB.columns = ['userId', 'orders']"
   ]
  },
  {
   "cell_type": "markdown",
   "metadata": {},
   "source": [
    "Объявим переменные sampleA и sampleB, в которых пользователям из разных групп будет соответствовать количество заказов. Тем, кто ничего не заказал, будут соответствовать нули."
   ]
  },
  {
   "cell_type": "code",
   "execution_count": 133,
   "metadata": {},
   "outputs": [
    {
     "name": "stdout",
     "output_type": "stream",
     "text": [
      "Значение p-value: 0.017\n",
      "Относительная разница между группы В относительно группы А: 0.138\n"
     ]
    }
   ],
   "source": [
    "sampleA = pd.concat([ordersByUsersA['orders'],\n",
    "                     pd.Series(0, index=np.arange(data_row['visitorsPerDateA'].sum() - len(ordersByUsersA['orders'])),\n",
    "                               name='orders')],axis=0)\n",
    "\n",
    "sampleB = pd.concat([ordersByUsersB['orders'],\n",
    "                     pd.Series(0, index=np.arange(data_row['visitorsPerDateB'].sum() - len(ordersByUsersB['orders'])),\n",
    "                               name='orders')],axis=0)\n",
    "\n",
    "#применим критерий: \n",
    "\n",
    "print(\"Значение p-value: {0:.3f}\".format(stats.mannwhitneyu(sampleA, sampleB)[1]))\n",
    "\n",
    "print(\"Относительная разница между группы В относительно группы А: {0:.3f}\".format(sampleB.mean() / sampleA.mean() - 1))"
   ]
  },
  {
   "cell_type": "markdown",
   "metadata": {},
   "source": [
    "Первое полученное значение - `p-value`. Оно оказалось меньше чем 0.05, значит нулевую гипотезу отвергаем, между группами есть статистически значимое различие между средним количеством заказов на посетителя. При этом относительный выигрыш группы В равен 14.8% - второе выведенное число.\n",
    "\n",
    "**11. Посчитайте статистическую значимость различий в среднем чеке заказа между группами по «сырым» данным**\n",
    "\n",
    "Произведем аналогичные действия. Нулевая гипотеза - различий в среднем чеке между группами нет. Альтернативная гипотеза: различия в среднем чеке между группами есть. "
   ]
  },
  {
   "cell_type": "code",
   "execution_count": 134,
   "metadata": {},
   "outputs": [
    {
     "name": "stdout",
     "output_type": "stream",
     "text": [
      "p-value: 0.729\n",
      "Относительная разница: 0.259\n"
     ]
    }
   ],
   "source": [
    "print('p-value: {0:.3f}'.format(stats.mannwhitneyu(orders[orders['group']=='A']['revenue'],\n",
    "                                                   orders[orders['group']=='B']['revenue'])[1]))\n",
    "\n",
    "print('Относительная разница: {0:.3f}'.format(orders[orders['group']=='B']['revenue'].mean()\n",
    "                                              /orders[orders['group']=='A']['revenue'].mean()-1)) "
   ]
  },
  {
   "cell_type": "markdown",
   "metadata": {},
   "source": [
    "p-value значительно больше 0.05. Значит нет причин отвергать нулевую гипотезу, между группами нет статистически значимого различия. При этом относительный выигрыш среднего чека в группе В равен 25.9% что достаточно много \n",
    "\n",
    "**12. Посчитайте статистическую значимость различий в среднем количестве заказов на посетителя между группами по «очищенным» данным**\n",
    "\n",
    "Для начала уберем заказы и пользователей с аномальными значениями: "
   ]
  },
  {
   "cell_type": "code",
   "execution_count": 135,
   "metadata": {},
   "outputs": [
    {
     "name": "stdout",
     "output_type": "stream",
     "text": [
      "1099     148427295\n",
      "949      887908475\n",
      "744      888512513\n",
      "1103    1164614297\n",
      "1136    1307669133\n",
      "dtype: int64\n",
      "15\n"
     ]
    }
   ],
   "source": [
    "usersWithManyOrders = pd.concat(\n",
    "    [\n",
    "        ordersByUsersA[ordersByUsersA['orders'] > np.percentile(ordersByUsers['orders'], [90, 95, 99])[2]]['userId'],\n",
    "        ordersByUsersB[ordersByUsersB['orders'] > np.percentile(ordersByUsers['orders'], [90, 95, 99])[2]]['userId'],\n",
    "    ],\n",
    "    axis=0,\n",
    ")\n",
    "usersWithExpensiveOrders = orders[orders['revenue'] > np.percentile(orders['revenue'], [90, 95, 99])[2]]['visitorId']\n",
    "abnormalUsers = (\n",
    "    pd.concat([usersWithManyOrders, usersWithExpensiveOrders], axis=0)\n",
    "    .drop_duplicates()\n",
    "    .sort_values()\n",
    ")\n",
    "print(abnormalUsers.head(5))\n",
    "print(abnormalUsers.shape[0])"
   ]
  },
  {
   "cell_type": "markdown",
   "metadata": {},
   "source": [
    "Всего 15 аномальных пользователей, их нужно исключить. Подоготовим выборки \"очищенных\" данных и применим статистический критерий Манна-Уитни к полученным выборкам:"
   ]
  },
  {
   "cell_type": "code",
   "execution_count": 139,
   "metadata": {},
   "outputs": [
    {
     "name": "stdout",
     "output_type": "stream",
     "text": [
      "p-value: 0.014\n",
      "Относительная разница: 0.153\n"
     ]
    }
   ],
   "source": [
    "sampleAFiltered = pd.concat(\n",
    "    [\n",
    "        ordersByUsersA[\n",
    "            np.logical_not(ordersByUsersA['userId'].isin(abnormalUsers))\n",
    "        ]['orders'],\n",
    "        pd.Series(\n",
    "            0,\n",
    "            index=np.arange(\n",
    "                data_row['visitorsPerDateA'].sum() - len(ordersByUsersA['orders'])\n",
    "            ),\n",
    "            name='orders',\n",
    "        ),\n",
    "    ],\n",
    "    axis=0,\n",
    ")\n",
    "\n",
    "sampleBFiltered = pd.concat(\n",
    "    [\n",
    "        ordersByUsersB[\n",
    "            np.logical_not(ordersByUsersB['userId'].isin(abnormalUsers))\n",
    "        ]['orders'],\n",
    "        pd.Series(\n",
    "            0,\n",
    "            index=np.arange(\n",
    "                data_row['visitorsPerDateB'].sum() - len(ordersByUsersB['orders'])\n",
    "            ),\n",
    "            name='orders',\n",
    "        ),\n",
    "    ],\n",
    "    axis=0,\n",
    ")\n",
    "\n",
    "print('p-value: {0:.3f}'.format(stats.mannwhitneyu(sampleAFiltered, sampleBFiltered)[1]))\n",
    "print('Относительная разница: {0:.3f}'.format(sampleBFiltered.mean()/sampleAFiltered.mean()-1)) "
   ]
  },
  {
   "cell_type": "markdown",
   "metadata": {},
   "source": [
    "Полученные значения практически не отличаются от результатов в \"сырых\" выборках - значение `p-value` меньше 0.05, а значит нулевую гипотезу отвергаем, между данными есть статистически значимые различия (относительный выигрыш группы В вырос до 15.3%)\n",
    "\n",
    "**13. Посчитайте статистическую значимость различий в среднем чеке заказа между группами по «очищенным» данным**"
   ]
  },
  {
   "cell_type": "code",
   "execution_count": 142,
   "metadata": {},
   "outputs": [
    {
     "name": "stdout",
     "output_type": "stream",
     "text": [
      "p-value: 0.851\n",
      "Относительная разница: -0.006\n"
     ]
    }
   ],
   "source": [
    "print(\n",
    "    'p-value: {0:.3f}'.format(\n",
    "        stats.mannwhitneyu(\n",
    "            orders[\n",
    "                np.logical_and(\n",
    "                    orders['group'] == 'A',\n",
    "                    np.logical_not(orders['visitorId'].isin(abnormalUsers)),\n",
    "                )\n",
    "            ]['revenue'],\n",
    "            orders[\n",
    "                np.logical_and(\n",
    "                    orders['group'] == 'B',\n",
    "                    np.logical_not(orders['visitorId'].isin(abnormalUsers)),\n",
    "                )\n",
    "            ]['revenue'],\n",
    "        )[1]\n",
    "    )\n",
    ")\n",
    "\n",
    "print(\n",
    "    \"Относительная разница: {0:.3f}\".format(\n",
    "        orders[\n",
    "            np.logical_and(\n",
    "                orders['group'] == 'B',\n",
    "                np.logical_not(orders['visitorId'].isin(abnormalUsers)),\n",
    "            )\n",
    "        ]['revenue'].mean()\n",
    "        / orders[\n",
    "            np.logical_and(\n",
    "                orders['group'] == 'A',\n",
    "                np.logical_not(orders['visitorId'].isin(abnormalUsers)),\n",
    "            )\n",
    "        ]['revenue'].mean()\n",
    "        - 1\n",
    "    )\n",
    ")"
   ]
  },
  {
   "cell_type": "markdown",
   "metadata": {},
   "source": [
    "Если сравнивать с сырыми данными, то нулевая гипотеза все еще не отвергается, однако сильно изменилась относительная разница в среднем чеке - раньше группа В выигрывала почти на 26%, а теперь проигрывает на 0.6%. Произошло это за счет исключения того самого аномально большого заказа о котором упоминалось выше. Теперь не возникает вопросов почему между группами нет статистически значимой разницы в среднем чеке, однако "
   ]
  },
  {
   "cell_type": "markdown",
   "metadata": {},
   "source": [
    "## Итоговые выводы"
   ]
  },
  {
   "cell_type": "markdown",
   "metadata": {},
   "source": [
    "Был проведен анализ А/В тестирования в итоге которого выяснились следующие факты:\n",
    "- Есть статистически значимое различие по среднему количеству заказов между группами как по «сырым», так и по данным после фильтрации аномалий\n",
    "- Нет статистически значимого различия по среднему чеку между группами ни по «сырым», ни по данным после фильтрации аномалий;\n",
    "- График различия среднего количества заказов между группами сообщает, что результаты группы B лучше группы A, однако есть тенденция к уменьшению разницы между группами.\n",
    "- График различия среднего чека говорит о том, что результаты группы B стали выше чем у группы А из за аномально большого заказа, однако теперь разница идет на спад.\n",
    "\n",
    "Исходя из этого было принято остановить тест и зафиксировать победу группы В, так как присутствует статистически значимое различие по среднему количеству заказов, после фильтрации данных относительная разница составила 17.2%."
   ]
  }
 ],
 "metadata": {
  "ExecuteTimeLog": [
   {
    "duration": 451,
    "start_time": "2023-02-09T14:17:21.855Z"
   },
   {
    "duration": 2,
    "start_time": "2023-02-09T14:17:26.528Z"
   },
   {
    "duration": 216,
    "start_time": "2023-02-09T14:18:46.650Z"
   },
   {
    "duration": 13,
    "start_time": "2023-02-09T14:19:14.721Z"
   },
   {
    "duration": 14,
    "start_time": "2023-02-09T14:19:25.784Z"
   },
   {
    "duration": 8,
    "start_time": "2023-02-09T14:19:40.631Z"
   },
   {
    "duration": 9,
    "start_time": "2023-02-09T14:19:46.372Z"
   },
   {
    "duration": 8,
    "start_time": "2023-02-09T14:22:16.087Z"
   },
   {
    "duration": 10,
    "start_time": "2023-02-09T14:22:22.941Z"
   },
   {
    "duration": 11,
    "start_time": "2023-02-09T14:25:05.348Z"
   },
   {
    "duration": 1164,
    "start_time": "2023-02-09T14:28:35.850Z"
   },
   {
    "duration": 3,
    "start_time": "2023-02-09T14:29:19.984Z"
   },
   {
    "duration": 4,
    "start_time": "2023-02-09T14:29:32.150Z"
   },
   {
    "duration": 4,
    "start_time": "2023-02-09T14:30:05.850Z"
   },
   {
    "duration": 5,
    "start_time": "2023-02-09T14:30:19.985Z"
   },
   {
    "duration": 4,
    "start_time": "2023-02-09T14:30:57.101Z"
   },
   {
    "duration": 3,
    "start_time": "2023-02-09T14:30:58.391Z"
   },
   {
    "duration": 4,
    "start_time": "2023-02-09T14:30:58.804Z"
   },
   {
    "duration": 3,
    "start_time": "2023-02-09T14:30:58.975Z"
   },
   {
    "duration": 3,
    "start_time": "2023-02-09T14:55:31.802Z"
   },
   {
    "duration": 11,
    "start_time": "2023-02-09T14:57:08.616Z"
   },
   {
    "duration": 16,
    "start_time": "2023-02-09T14:57:24.571Z"
   },
   {
    "duration": 13,
    "start_time": "2023-02-09T14:57:42.394Z"
   },
   {
    "duration": 300,
    "start_time": "2023-02-09T15:00:22.765Z"
   },
   {
    "duration": 4,
    "start_time": "2023-02-09T15:00:57.891Z"
   },
   {
    "duration": 14,
    "start_time": "2023-02-09T15:01:04.865Z"
   },
   {
    "duration": 7,
    "start_time": "2023-02-09T15:01:11.846Z"
   },
   {
    "duration": 10,
    "start_time": "2023-02-09T15:01:18.588Z"
   },
   {
    "duration": 6,
    "start_time": "2023-02-09T15:01:24.486Z"
   },
   {
    "duration": 10,
    "start_time": "2023-02-09T15:01:31.752Z"
   },
   {
    "duration": 15,
    "start_time": "2023-02-09T15:01:37.383Z"
   },
   {
    "duration": 3,
    "start_time": "2023-02-09T15:01:45.883Z"
   },
   {
    "duration": 15,
    "start_time": "2023-02-09T15:01:46.342Z"
   },
   {
    "duration": 7,
    "start_time": "2023-02-09T15:01:54.080Z"
   },
   {
    "duration": 9,
    "start_time": "2023-02-09T15:02:25.378Z"
   },
   {
    "duration": 7,
    "start_time": "2023-02-09T15:02:30.396Z"
   },
   {
    "duration": 19,
    "start_time": "2023-02-09T15:02:38.506Z"
   },
   {
    "duration": 66,
    "start_time": "2023-02-09T15:02:50.266Z"
   },
   {
    "duration": 11,
    "start_time": "2023-02-09T15:02:50.695Z"
   },
   {
    "duration": 3,
    "start_time": "2023-02-09T15:02:53.532Z"
   },
   {
    "duration": 67,
    "start_time": "2023-02-09T15:02:53.830Z"
   },
   {
    "duration": 8,
    "start_time": "2023-02-09T15:02:54.158Z"
   },
   {
    "duration": 13,
    "start_time": "2023-02-09T15:02:54.314Z"
   },
   {
    "duration": 8,
    "start_time": "2023-02-09T15:02:54.477Z"
   },
   {
    "duration": 12,
    "start_time": "2023-02-09T15:02:54.645Z"
   },
   {
    "duration": 8,
    "start_time": "2023-02-09T15:02:54.789Z"
   },
   {
    "duration": 13,
    "start_time": "2023-02-09T15:02:54.975Z"
   },
   {
    "duration": 7,
    "start_time": "2023-02-09T15:02:55.315Z"
   },
   {
    "duration": 14,
    "start_time": "2023-02-09T15:02:56.010Z"
   },
   {
    "duration": 16,
    "start_time": "2023-02-09T15:02:56.758Z"
   },
   {
    "duration": 5,
    "start_time": "2023-02-09T15:02:57.071Z"
   },
   {
    "duration": 4,
    "start_time": "2023-02-09T15:02:57.383Z"
   },
   {
    "duration": 5,
    "start_time": "2023-02-09T15:04:22.996Z"
   },
   {
    "duration": 25,
    "start_time": "2023-02-09T15:05:28.800Z"
   },
   {
    "duration": 27,
    "start_time": "2023-02-09T15:06:54.312Z"
   },
   {
    "duration": 265,
    "start_time": "2023-02-09T15:08:57.529Z"
   },
   {
    "duration": 389,
    "start_time": "2023-02-09T15:09:52.863Z"
   },
   {
    "duration": 272,
    "start_time": "2023-02-09T15:10:06.045Z"
   },
   {
    "duration": 172,
    "start_time": "2023-02-09T15:14:37.559Z"
   },
   {
    "duration": 394,
    "start_time": "2023-02-09T15:18:54.745Z"
   },
   {
    "duration": 182,
    "start_time": "2023-02-09T15:26:03.161Z"
   },
   {
    "duration": 299,
    "start_time": "2023-02-09T15:27:45.326Z"
   },
   {
    "duration": 265,
    "start_time": "2023-02-09T15:28:04.374Z"
   },
   {
    "duration": 282,
    "start_time": "2023-02-09T15:29:30.595Z"
   },
   {
    "duration": 294,
    "start_time": "2023-02-09T15:30:06.356Z"
   },
   {
    "duration": 245,
    "start_time": "2023-02-09T15:30:13.570Z"
   },
   {
    "duration": 16,
    "start_time": "2023-02-09T15:34:16.945Z"
   },
   {
    "duration": 3,
    "start_time": "2023-02-09T15:34:25.002Z"
   },
   {
    "duration": 72,
    "start_time": "2023-02-09T15:34:25.007Z"
   },
   {
    "duration": 8,
    "start_time": "2023-02-09T15:34:25.080Z"
   },
   {
    "duration": 12,
    "start_time": "2023-02-09T15:34:25.089Z"
   },
   {
    "duration": 7,
    "start_time": "2023-02-09T15:34:25.103Z"
   },
   {
    "duration": 9,
    "start_time": "2023-02-09T15:34:25.112Z"
   },
   {
    "duration": 8,
    "start_time": "2023-02-09T15:34:25.123Z"
   },
   {
    "duration": 10,
    "start_time": "2023-02-09T15:34:25.132Z"
   },
   {
    "duration": 6,
    "start_time": "2023-02-09T15:34:25.143Z"
   },
   {
    "duration": 11,
    "start_time": "2023-02-09T15:34:25.150Z"
   },
   {
    "duration": 13,
    "start_time": "2023-02-09T15:34:25.163Z"
   },
   {
    "duration": 3,
    "start_time": "2023-02-09T15:34:25.177Z"
   },
   {
    "duration": 5,
    "start_time": "2023-02-09T15:34:25.182Z"
   },
   {
    "duration": 292,
    "start_time": "2023-02-09T15:34:25.188Z"
   },
   {
    "duration": 180,
    "start_time": "2023-02-09T15:34:25.482Z"
   },
   {
    "duration": 173,
    "start_time": "2023-02-09T15:34:25.664Z"
   },
   {
    "duration": 267,
    "start_time": "2023-02-09T15:34:25.838Z"
   },
   {
    "duration": 183,
    "start_time": "2023-02-09T15:34:26.107Z"
   },
   {
    "duration": 340,
    "start_time": "2023-02-09T15:34:26.291Z"
   },
   {
    "duration": 9,
    "start_time": "2023-02-09T15:34:28.792Z"
   },
   {
    "duration": 10,
    "start_time": "2023-02-09T15:37:06.048Z"
   },
   {
    "duration": 120,
    "start_time": "2023-02-09T15:39:06.960Z"
   },
   {
    "duration": 101,
    "start_time": "2023-02-09T15:39:40.811Z"
   },
   {
    "duration": 5,
    "start_time": "2023-02-09T15:41:58.982Z"
   },
   {
    "duration": 121,
    "start_time": "2023-02-09T15:46:56.529Z"
   },
   {
    "duration": 5,
    "start_time": "2023-02-09T15:49:20.496Z"
   },
   {
    "duration": 704,
    "start_time": "2023-02-09T16:05:55.909Z"
   },
   {
    "duration": 2,
    "start_time": "2023-02-09T16:06:39.687Z"
   },
   {
    "duration": 66,
    "start_time": "2023-02-09T16:06:39.691Z"
   },
   {
    "duration": 7,
    "start_time": "2023-02-09T16:06:39.759Z"
   },
   {
    "duration": 16,
    "start_time": "2023-02-09T16:06:39.768Z"
   },
   {
    "duration": 9,
    "start_time": "2023-02-09T16:06:39.786Z"
   },
   {
    "duration": 12,
    "start_time": "2023-02-09T16:06:39.796Z"
   },
   {
    "duration": 9,
    "start_time": "2023-02-09T16:06:39.809Z"
   },
   {
    "duration": 19,
    "start_time": "2023-02-09T16:06:39.819Z"
   },
   {
    "duration": 4,
    "start_time": "2023-02-09T16:06:39.840Z"
   },
   {
    "duration": 14,
    "start_time": "2023-02-09T16:06:39.846Z"
   },
   {
    "duration": 11,
    "start_time": "2023-02-09T16:06:39.862Z"
   },
   {
    "duration": 6,
    "start_time": "2023-02-09T16:06:39.874Z"
   },
   {
    "duration": 5,
    "start_time": "2023-02-09T16:06:39.882Z"
   },
   {
    "duration": 298,
    "start_time": "2023-02-09T16:06:39.888Z"
   },
   {
    "duration": 270,
    "start_time": "2023-02-09T16:06:40.187Z"
   },
   {
    "duration": 177,
    "start_time": "2023-02-09T16:06:40.459Z"
   },
   {
    "duration": 281,
    "start_time": "2023-02-09T16:06:40.637Z"
   },
   {
    "duration": 190,
    "start_time": "2023-02-09T16:06:40.920Z"
   },
   {
    "duration": 284,
    "start_time": "2023-02-09T16:06:41.111Z"
   },
   {
    "duration": 9,
    "start_time": "2023-02-09T16:06:41.397Z"
   },
   {
    "duration": 131,
    "start_time": "2023-02-09T16:06:41.407Z"
   },
   {
    "duration": 4,
    "start_time": "2023-02-09T16:06:41.540Z"
   },
   {
    "duration": 143,
    "start_time": "2023-02-09T16:06:41.545Z"
   },
   {
    "duration": 4,
    "start_time": "2023-02-09T16:06:41.690Z"
   },
   {
    "duration": 3,
    "start_time": "2023-02-09T16:08:42.366Z"
   },
   {
    "duration": 83,
    "start_time": "2023-02-09T16:08:42.372Z"
   },
   {
    "duration": 10,
    "start_time": "2023-02-09T16:08:42.457Z"
   },
   {
    "duration": 27,
    "start_time": "2023-02-09T16:08:42.469Z"
   },
   {
    "duration": 23,
    "start_time": "2023-02-09T16:08:42.499Z"
   },
   {
    "duration": 24,
    "start_time": "2023-02-09T16:08:42.524Z"
   },
   {
    "duration": 13,
    "start_time": "2023-02-09T16:08:42.550Z"
   },
   {
    "duration": 19,
    "start_time": "2023-02-09T16:08:42.565Z"
   },
   {
    "duration": 14,
    "start_time": "2023-02-09T16:08:42.587Z"
   },
   {
    "duration": 48,
    "start_time": "2023-02-09T16:08:42.604Z"
   },
   {
    "duration": 18,
    "start_time": "2023-02-09T16:08:42.654Z"
   },
   {
    "duration": 7,
    "start_time": "2023-02-09T16:08:42.674Z"
   },
   {
    "duration": 8,
    "start_time": "2023-02-09T16:08:42.683Z"
   },
   {
    "duration": 300,
    "start_time": "2023-02-09T16:08:42.695Z"
   },
   {
    "duration": 180,
    "start_time": "2023-02-09T16:08:42.997Z"
   },
   {
    "duration": 192,
    "start_time": "2023-02-09T16:08:43.179Z"
   },
   {
    "duration": 272,
    "start_time": "2023-02-09T16:08:43.372Z"
   },
   {
    "duration": 196,
    "start_time": "2023-02-09T16:08:43.646Z"
   },
   {
    "duration": 263,
    "start_time": "2023-02-09T16:08:43.844Z"
   },
   {
    "duration": 9,
    "start_time": "2023-02-09T16:08:44.108Z"
   },
   {
    "duration": 123,
    "start_time": "2023-02-09T16:08:44.136Z"
   },
   {
    "duration": 4,
    "start_time": "2023-02-09T16:08:44.260Z"
   },
   {
    "duration": 154,
    "start_time": "2023-02-09T16:08:44.266Z"
   },
   {
    "duration": 4,
    "start_time": "2023-02-09T16:08:44.422Z"
   },
   {
    "duration": 203,
    "start_time": "2023-02-09T16:10:39.726Z"
   },
   {
    "duration": 120,
    "start_time": "2023-02-09T16:12:51.559Z"
   },
   {
    "duration": 20,
    "start_time": "2023-02-09T16:14:45.707Z"
   },
   {
    "duration": 12,
    "start_time": "2023-02-09T16:47:07.849Z"
   },
   {
    "duration": 1196,
    "start_time": "2023-02-09T16:53:41.256Z"
   },
   {
    "duration": 1152,
    "start_time": "2023-02-09T16:54:08.111Z"
   },
   {
    "duration": 11,
    "start_time": "2023-02-09T16:54:31.874Z"
   },
   {
    "duration": 25,
    "start_time": "2023-02-09T16:57:37.752Z"
   },
   {
    "duration": 16,
    "start_time": "2023-02-09T17:07:34.140Z"
   },
   {
    "duration": 3,
    "start_time": "2023-02-09T17:39:58.991Z"
   },
   {
    "duration": 67,
    "start_time": "2023-02-09T17:39:58.996Z"
   },
   {
    "duration": 10,
    "start_time": "2023-02-09T17:39:59.064Z"
   },
   {
    "duration": 10,
    "start_time": "2023-02-09T17:39:59.076Z"
   },
   {
    "duration": 9,
    "start_time": "2023-02-09T17:39:59.088Z"
   },
   {
    "duration": 14,
    "start_time": "2023-02-09T17:39:59.098Z"
   },
   {
    "duration": 9,
    "start_time": "2023-02-09T17:39:59.113Z"
   },
   {
    "duration": 20,
    "start_time": "2023-02-09T17:39:59.124Z"
   },
   {
    "duration": 5,
    "start_time": "2023-02-09T17:39:59.146Z"
   },
   {
    "duration": 11,
    "start_time": "2023-02-09T17:39:59.153Z"
   },
   {
    "duration": 11,
    "start_time": "2023-02-09T17:39:59.166Z"
   },
   {
    "duration": 5,
    "start_time": "2023-02-09T17:39:59.178Z"
   },
   {
    "duration": 6,
    "start_time": "2023-02-09T17:39:59.185Z"
   },
   {
    "duration": 287,
    "start_time": "2023-02-09T17:39:59.236Z"
   },
   {
    "duration": 183,
    "start_time": "2023-02-09T17:39:59.525Z"
   },
   {
    "duration": 277,
    "start_time": "2023-02-09T17:39:59.709Z"
   },
   {
    "duration": 270,
    "start_time": "2023-02-09T17:39:59.988Z"
   },
   {
    "duration": 222,
    "start_time": "2023-02-09T17:40:00.259Z"
   },
   {
    "duration": 262,
    "start_time": "2023-02-09T17:40:00.483Z"
   },
   {
    "duration": 9,
    "start_time": "2023-02-09T17:40:00.747Z"
   },
   {
    "duration": 125,
    "start_time": "2023-02-09T17:40:00.758Z"
   },
   {
    "duration": 6,
    "start_time": "2023-02-09T17:40:00.885Z"
   },
   {
    "duration": 176,
    "start_time": "2023-02-09T17:40:00.893Z"
   },
   {
    "duration": 5,
    "start_time": "2023-02-09T17:40:01.072Z"
   },
   {
    "duration": 235,
    "start_time": "2023-02-09T17:40:01.079Z"
   },
   {
    "duration": 148,
    "start_time": "2023-02-09T17:40:01.316Z"
   },
   {
    "duration": 21,
    "start_time": "2023-02-09T17:40:01.466Z"
   },
   {
    "duration": 26,
    "start_time": "2023-02-09T17:40:01.489Z"
   },
   {
    "duration": 41,
    "start_time": "2023-02-09T17:40:01.517Z"
   },
   {
    "duration": 51,
    "start_time": "2023-02-09T17:40:01.559Z"
   },
   {
    "duration": 13,
    "start_time": "2023-02-09T17:40:01.612Z"
   },
   {
    "duration": 662,
    "start_time": "2023-02-10T09:32:32.388Z"
   },
   {
    "duration": 283,
    "start_time": "2023-02-10T09:32:33.053Z"
   },
   {
    "duration": 12,
    "start_time": "2023-02-10T09:32:33.338Z"
   },
   {
    "duration": 30,
    "start_time": "2023-02-10T09:32:33.352Z"
   },
   {
    "duration": 54,
    "start_time": "2023-02-10T09:32:33.384Z"
   },
   {
    "duration": 58,
    "start_time": "2023-02-10T09:32:33.439Z"
   },
   {
    "duration": 36,
    "start_time": "2023-02-10T09:32:33.500Z"
   },
   {
    "duration": 33,
    "start_time": "2023-02-10T09:32:33.538Z"
   },
   {
    "duration": 48,
    "start_time": "2023-02-10T09:32:33.573Z"
   },
   {
    "duration": 26,
    "start_time": "2023-02-10T09:32:33.624Z"
   },
   {
    "duration": 23,
    "start_time": "2023-02-10T09:32:33.652Z"
   },
   {
    "duration": 48,
    "start_time": "2023-02-10T09:32:33.677Z"
   },
   {
    "duration": 16,
    "start_time": "2023-02-10T09:32:33.727Z"
   },
   {
    "duration": 297,
    "start_time": "2023-02-10T09:32:33.746Z"
   },
   {
    "duration": 281,
    "start_time": "2023-02-10T09:32:34.044Z"
   },
   {
    "duration": 186,
    "start_time": "2023-02-10T09:32:34.327Z"
   },
   {
    "duration": 260,
    "start_time": "2023-02-10T09:32:34.522Z"
   },
   {
    "duration": 256,
    "start_time": "2023-02-10T09:32:34.791Z"
   },
   {
    "duration": 257,
    "start_time": "2023-02-10T09:32:35.049Z"
   },
   {
    "duration": 17,
    "start_time": "2023-02-10T09:32:35.309Z"
   },
   {
    "duration": 130,
    "start_time": "2023-02-10T09:32:35.328Z"
   },
   {
    "duration": 4,
    "start_time": "2023-02-10T09:32:35.460Z"
   },
   {
    "duration": 146,
    "start_time": "2023-02-10T09:32:35.465Z"
   },
   {
    "duration": 7,
    "start_time": "2023-02-10T09:32:35.613Z"
   },
   {
    "duration": 302,
    "start_time": "2023-02-10T09:32:35.623Z"
   },
   {
    "duration": 0,
    "start_time": "2023-02-10T09:32:35.929Z"
   },
   {
    "duration": 0,
    "start_time": "2023-02-10T09:32:35.930Z"
   },
   {
    "duration": 0,
    "start_time": "2023-02-10T09:32:35.931Z"
   },
   {
    "duration": 0,
    "start_time": "2023-02-10T09:32:35.932Z"
   },
   {
    "duration": 0,
    "start_time": "2023-02-10T09:32:35.933Z"
   },
   {
    "duration": 0,
    "start_time": "2023-02-10T09:32:35.934Z"
   },
   {
    "duration": 790,
    "start_time": "2023-02-10T10:01:26.176Z"
   },
   {
    "duration": 116,
    "start_time": "2023-02-10T10:01:26.969Z"
   },
   {
    "duration": 30,
    "start_time": "2023-02-10T10:01:27.087Z"
   },
   {
    "duration": 27,
    "start_time": "2023-02-10T10:01:27.125Z"
   },
   {
    "duration": 11,
    "start_time": "2023-02-10T10:01:27.154Z"
   },
   {
    "duration": 15,
    "start_time": "2023-02-10T10:01:27.166Z"
   },
   {
    "duration": 20,
    "start_time": "2023-02-10T10:01:27.182Z"
   },
   {
    "duration": 65,
    "start_time": "2023-02-10T10:01:27.206Z"
   },
   {
    "duration": 11,
    "start_time": "2023-02-10T10:01:27.273Z"
   },
   {
    "duration": 68,
    "start_time": "2023-02-10T10:01:27.287Z"
   },
   {
    "duration": 13,
    "start_time": "2023-02-10T10:01:27.357Z"
   },
   {
    "duration": 11,
    "start_time": "2023-02-10T10:01:27.373Z"
   },
   {
    "duration": 69,
    "start_time": "2023-02-10T10:01:27.386Z"
   },
   {
    "duration": 318,
    "start_time": "2023-02-10T10:01:27.457Z"
   },
   {
    "duration": 390,
    "start_time": "2023-02-10T10:01:27.776Z"
   },
   {
    "duration": 213,
    "start_time": "2023-02-10T10:01:28.168Z"
   },
   {
    "duration": 349,
    "start_time": "2023-02-10T10:01:28.383Z"
   },
   {
    "duration": 286,
    "start_time": "2023-02-10T10:01:28.739Z"
   },
   {
    "duration": 282,
    "start_time": "2023-02-10T10:01:29.030Z"
   },
   {
    "duration": 18,
    "start_time": "2023-02-10T10:01:29.314Z"
   },
   {
    "duration": 151,
    "start_time": "2023-02-10T10:01:29.334Z"
   },
   {
    "duration": 11,
    "start_time": "2023-02-10T10:01:29.487Z"
   },
   {
    "duration": 188,
    "start_time": "2023-02-10T10:01:29.507Z"
   },
   {
    "duration": 8,
    "start_time": "2023-02-10T10:01:29.696Z"
   },
   {
    "duration": 376,
    "start_time": "2023-02-10T10:01:29.705Z"
   },
   {
    "duration": 0,
    "start_time": "2023-02-10T10:01:30.101Z"
   },
   {
    "duration": 0,
    "start_time": "2023-02-10T10:01:30.101Z"
   },
   {
    "duration": 0,
    "start_time": "2023-02-10T10:01:30.102Z"
   },
   {
    "duration": 0,
    "start_time": "2023-02-10T10:01:30.103Z"
   },
   {
    "duration": 0,
    "start_time": "2023-02-10T10:01:30.104Z"
   },
   {
    "duration": 0,
    "start_time": "2023-02-10T10:01:30.114Z"
   },
   {
    "duration": 133,
    "start_time": "2023-02-10T10:23:01.340Z"
   },
   {
    "duration": 10,
    "start_time": "2023-02-10T10:23:03.047Z"
   },
   {
    "duration": 210,
    "start_time": "2023-02-10T10:23:32.569Z"
   },
   {
    "duration": 209,
    "start_time": "2023-02-10T10:23:47.724Z"
   },
   {
    "duration": 124,
    "start_time": "2023-02-10T10:23:56.946Z"
   },
   {
    "duration": 13,
    "start_time": "2023-02-10T10:24:04.969Z"
   },
   {
    "duration": 9,
    "start_time": "2023-02-10T10:24:30.969Z"
   },
   {
    "duration": 9,
    "start_time": "2023-02-10T10:24:42.732Z"
   },
   {
    "duration": 418,
    "start_time": "2023-02-10T10:25:00.556Z"
   },
   {
    "duration": 10,
    "start_time": "2023-02-10T10:26:59.675Z"
   },
   {
    "duration": 14,
    "start_time": "2023-02-10T10:30:43.680Z"
   },
   {
    "duration": 28,
    "start_time": "2023-02-10T10:31:03.327Z"
   },
   {
    "duration": 14,
    "start_time": "2023-02-10T10:32:04.470Z"
   },
   {
    "duration": 930,
    "start_time": "2023-02-10T10:59:37.706Z"
   },
   {
    "duration": 314,
    "start_time": "2023-02-10T10:59:38.638Z"
   },
   {
    "duration": 20,
    "start_time": "2023-02-10T10:59:38.954Z"
   },
   {
    "duration": 39,
    "start_time": "2023-02-10T10:59:38.976Z"
   },
   {
    "duration": 3,
    "start_time": "2023-02-10T10:59:44.145Z"
   },
   {
    "duration": 9,
    "start_time": "2023-02-10T10:59:53.088Z"
   },
   {
    "duration": 9,
    "start_time": "2023-02-10T10:59:56.719Z"
   },
   {
    "duration": 15,
    "start_time": "2023-02-10T11:01:34.893Z"
   },
   {
    "duration": 3,
    "start_time": "2023-02-10T11:06:35.488Z"
   },
   {
    "duration": 144,
    "start_time": "2023-02-10T11:06:35.493Z"
   },
   {
    "duration": 10,
    "start_time": "2023-02-10T11:06:35.639Z"
   },
   {
    "duration": 68,
    "start_time": "2023-02-10T11:06:35.653Z"
   },
   {
    "duration": 20,
    "start_time": "2023-02-10T11:06:35.723Z"
   },
   {
    "duration": 70,
    "start_time": "2023-02-10T11:06:35.745Z"
   },
   {
    "duration": 19,
    "start_time": "2023-02-10T11:06:35.816Z"
   },
   {
    "duration": 81,
    "start_time": "2023-02-10T11:06:35.836Z"
   },
   {
    "duration": 34,
    "start_time": "2023-02-10T11:06:35.919Z"
   },
   {
    "duration": 60,
    "start_time": "2023-02-10T11:06:35.955Z"
   },
   {
    "duration": 14,
    "start_time": "2023-02-10T11:06:36.017Z"
   },
   {
    "duration": 28,
    "start_time": "2023-02-10T11:06:36.033Z"
   },
   {
    "duration": 37,
    "start_time": "2023-02-10T11:06:36.063Z"
   },
   {
    "duration": 306,
    "start_time": "2023-02-10T11:06:36.102Z"
   },
   {
    "duration": 352,
    "start_time": "2023-02-10T11:06:36.410Z"
   },
   {
    "duration": 225,
    "start_time": "2023-02-10T11:06:36.767Z"
   },
   {
    "duration": 352,
    "start_time": "2023-02-10T11:06:36.994Z"
   },
   {
    "duration": 276,
    "start_time": "2023-02-10T11:06:37.352Z"
   },
   {
    "duration": 312,
    "start_time": "2023-02-10T11:06:37.630Z"
   },
   {
    "duration": 22,
    "start_time": "2023-02-10T11:06:37.944Z"
   },
   {
    "duration": 148,
    "start_time": "2023-02-10T11:06:37.970Z"
   },
   {
    "duration": 5,
    "start_time": "2023-02-10T11:06:38.120Z"
   },
   {
    "duration": 151,
    "start_time": "2023-02-10T11:06:38.127Z"
   },
   {
    "duration": 8,
    "start_time": "2023-02-10T11:06:38.279Z"
   },
   {
    "duration": 255,
    "start_time": "2023-02-10T11:13:21.376Z"
   },
   {
    "duration": 187,
    "start_time": "2023-02-10T11:13:25.780Z"
   },
   {
    "duration": 89,
    "start_time": "2023-02-10T11:13:37.079Z"
   },
   {
    "duration": 5,
    "start_time": "2023-02-10T11:13:46.186Z"
   },
   {
    "duration": 114,
    "start_time": "2023-02-10T11:13:46.203Z"
   },
   {
    "duration": 9,
    "start_time": "2023-02-10T11:13:46.319Z"
   },
   {
    "duration": 13,
    "start_time": "2023-02-10T11:13:46.330Z"
   },
   {
    "duration": 26,
    "start_time": "2023-02-10T11:13:46.345Z"
   },
   {
    "duration": 37,
    "start_time": "2023-02-10T11:13:46.379Z"
   },
   {
    "duration": 17,
    "start_time": "2023-02-10T11:13:46.419Z"
   },
   {
    "duration": 19,
    "start_time": "2023-02-10T11:13:46.438Z"
   },
   {
    "duration": 53,
    "start_time": "2023-02-10T11:13:46.458Z"
   },
   {
    "duration": 52,
    "start_time": "2023-02-10T11:13:46.514Z"
   },
   {
    "duration": 48,
    "start_time": "2023-02-10T11:13:46.572Z"
   },
   {
    "duration": 8,
    "start_time": "2023-02-10T11:13:46.622Z"
   },
   {
    "duration": 7,
    "start_time": "2023-02-10T11:13:46.631Z"
   },
   {
    "duration": 364,
    "start_time": "2023-02-10T11:13:46.640Z"
   },
   {
    "duration": 290,
    "start_time": "2023-02-10T11:13:47.011Z"
   },
   {
    "duration": 276,
    "start_time": "2023-02-10T11:13:47.303Z"
   },
   {
    "duration": 311,
    "start_time": "2023-02-10T11:13:47.582Z"
   },
   {
    "duration": 237,
    "start_time": "2023-02-10T11:13:47.897Z"
   },
   {
    "duration": 306,
    "start_time": "2023-02-10T11:13:48.136Z"
   },
   {
    "duration": 11,
    "start_time": "2023-02-10T11:13:48.454Z"
   },
   {
    "duration": 164,
    "start_time": "2023-02-10T11:13:48.467Z"
   },
   {
    "duration": 5,
    "start_time": "2023-02-10T11:13:48.633Z"
   },
   {
    "duration": 275,
    "start_time": "2023-02-10T11:13:48.656Z"
   },
   {
    "duration": 6,
    "start_time": "2023-02-10T11:13:48.933Z"
   },
   {
    "duration": 323,
    "start_time": "2023-02-10T11:13:48.941Z"
   },
   {
    "duration": 192,
    "start_time": "2023-02-10T11:13:49.271Z"
   },
   {
    "duration": 16,
    "start_time": "2023-02-10T11:13:52.708Z"
   },
   {
    "duration": 29,
    "start_time": "2023-02-10T11:14:05.993Z"
   },
   {
    "duration": 15,
    "start_time": "2023-02-10T11:14:39.242Z"
   },
   {
    "duration": 567,
    "start_time": "2023-02-10T11:15:10.412Z"
   },
   {
    "duration": 66,
    "start_time": "2023-02-10T11:15:22.446Z"
   },
   {
    "duration": 14,
    "start_time": "2023-02-10T11:17:40.978Z"
   },
   {
    "duration": 10,
    "start_time": "2023-02-10T11:17:44.907Z"
   },
   {
    "duration": 6,
    "start_time": "2023-02-10T11:18:01.677Z"
   },
   {
    "duration": 133,
    "start_time": "2023-02-10T11:18:01.689Z"
   },
   {
    "duration": 9,
    "start_time": "2023-02-10T11:18:01.824Z"
   },
   {
    "duration": 65,
    "start_time": "2023-02-10T11:18:01.835Z"
   },
   {
    "duration": 11,
    "start_time": "2023-02-10T11:18:01.903Z"
   },
   {
    "duration": 29,
    "start_time": "2023-02-10T11:18:01.916Z"
   },
   {
    "duration": 60,
    "start_time": "2023-02-10T11:18:01.947Z"
   },
   {
    "duration": 37,
    "start_time": "2023-02-10T11:18:02.009Z"
   },
   {
    "duration": 70,
    "start_time": "2023-02-10T11:18:02.051Z"
   },
   {
    "duration": 14,
    "start_time": "2023-02-10T11:18:03.776Z"
   },
   {
    "duration": 13,
    "start_time": "2023-02-10T11:18:37.678Z"
   },
   {
    "duration": 192,
    "start_time": "2023-02-10T11:54:00.715Z"
   },
   {
    "duration": 193,
    "start_time": "2023-02-10T11:54:11.032Z"
   },
   {
    "duration": 182,
    "start_time": "2023-02-10T11:55:12.174Z"
   },
   {
    "duration": 218,
    "start_time": "2023-02-10T11:55:46.112Z"
   },
   {
    "duration": 276,
    "start_time": "2023-02-10T11:56:08.190Z"
   },
   {
    "duration": 168,
    "start_time": "2023-02-10T11:56:57.218Z"
   },
   {
    "duration": 331,
    "start_time": "2023-02-10T11:58:21.444Z"
   },
   {
    "duration": 273,
    "start_time": "2023-02-10T11:58:45.909Z"
   },
   {
    "duration": 318,
    "start_time": "2023-02-10T11:58:56.240Z"
   },
   {
    "duration": 206,
    "start_time": "2023-02-10T11:59:03.003Z"
   },
   {
    "duration": 213,
    "start_time": "2023-02-10T11:59:10.061Z"
   },
   {
    "duration": 208,
    "start_time": "2023-02-10T11:59:16.916Z"
   },
   {
    "duration": 227,
    "start_time": "2023-02-10T11:59:33.598Z"
   },
   {
    "duration": 221,
    "start_time": "2023-02-10T12:00:00.709Z"
   },
   {
    "duration": 239,
    "start_time": "2023-02-10T12:00:19.525Z"
   },
   {
    "duration": 216,
    "start_time": "2023-02-10T12:00:37.921Z"
   },
   {
    "duration": 22,
    "start_time": "2023-02-10T12:01:16.095Z"
   },
   {
    "duration": 322,
    "start_time": "2023-02-10T12:01:24.221Z"
   },
   {
    "duration": 473,
    "start_time": "2023-02-10T12:01:36.135Z"
   },
   {
    "duration": 205,
    "start_time": "2023-02-10T12:01:56.113Z"
   },
   {
    "duration": 224,
    "start_time": "2023-02-10T12:02:11.720Z"
   },
   {
    "duration": 247,
    "start_time": "2023-02-10T12:02:46.073Z"
   },
   {
    "duration": 333,
    "start_time": "2023-02-10T12:03:19.548Z"
   },
   {
    "duration": 230,
    "start_time": "2023-02-10T12:03:58.393Z"
   },
   {
    "duration": 323,
    "start_time": "2023-02-10T12:04:27.339Z"
   },
   {
    "duration": 354,
    "start_time": "2023-02-10T12:04:46.652Z"
   },
   {
    "duration": 50,
    "start_time": "2023-02-10T14:28:51.515Z"
   },
   {
    "duration": 1196,
    "start_time": "2023-02-10T14:28:54.997Z"
   },
   {
    "duration": 263,
    "start_time": "2023-02-10T14:28:56.195Z"
   },
   {
    "duration": 18,
    "start_time": "2023-02-10T14:28:56.460Z"
   },
   {
    "duration": 13,
    "start_time": "2023-02-10T14:28:56.480Z"
   },
   {
    "duration": 9,
    "start_time": "2023-02-10T14:28:56.495Z"
   },
   {
    "duration": 12,
    "start_time": "2023-02-10T14:28:56.506Z"
   },
   {
    "duration": 10,
    "start_time": "2023-02-10T14:28:56.519Z"
   },
   {
    "duration": 23,
    "start_time": "2023-02-10T14:28:56.530Z"
   },
   {
    "duration": 8,
    "start_time": "2023-02-10T14:28:56.555Z"
   },
   {
    "duration": 9,
    "start_time": "2023-02-10T14:28:56.565Z"
   },
   {
    "duration": 13,
    "start_time": "2023-02-10T14:28:56.575Z"
   },
   {
    "duration": 10,
    "start_time": "2023-02-10T14:28:56.590Z"
   },
   {
    "duration": 5,
    "start_time": "2023-02-10T14:28:56.602Z"
   },
   {
    "duration": 5,
    "start_time": "2023-02-10T14:28:56.610Z"
   },
   {
    "duration": 276,
    "start_time": "2023-02-10T14:28:56.648Z"
   },
   {
    "duration": 291,
    "start_time": "2023-02-10T14:28:56.926Z"
   },
   {
    "duration": 204,
    "start_time": "2023-02-10T14:28:57.219Z"
   },
   {
    "duration": 376,
    "start_time": "2023-02-10T14:28:57.425Z"
   },
   {
    "duration": 240,
    "start_time": "2023-02-10T14:28:57.803Z"
   },
   {
    "duration": 319,
    "start_time": "2023-02-10T14:28:58.048Z"
   },
   {
    "duration": 13,
    "start_time": "2023-02-10T14:28:58.368Z"
   },
   {
    "duration": 115,
    "start_time": "2023-02-10T14:29:00.363Z"
   },
   {
    "duration": 166,
    "start_time": "2023-02-10T14:30:16.423Z"
   },
   {
    "duration": 152,
    "start_time": "2023-02-10T14:30:19.521Z"
   },
   {
    "duration": 213,
    "start_time": "2023-02-10T14:31:47.359Z"
   },
   {
    "duration": 5,
    "start_time": "2023-02-10T14:39:17.862Z"
   },
   {
    "duration": 7,
    "start_time": "2023-02-10T14:39:42.971Z"
   },
   {
    "duration": 6,
    "start_time": "2023-02-10T14:40:27.192Z"
   },
   {
    "duration": 1873,
    "start_time": "2023-02-11T23:40:30.303Z"
   },
   {
    "duration": 336,
    "start_time": "2023-02-11T23:40:32.185Z"
   },
   {
    "duration": 21,
    "start_time": "2023-02-11T23:40:32.522Z"
   },
   {
    "duration": 68,
    "start_time": "2023-02-11T23:40:32.546Z"
   },
   {
    "duration": 53,
    "start_time": "2023-02-11T23:40:32.616Z"
   },
   {
    "duration": 61,
    "start_time": "2023-02-11T23:40:32.674Z"
   },
   {
    "duration": 83,
    "start_time": "2023-02-11T23:40:32.737Z"
   },
   {
    "duration": 39,
    "start_time": "2023-02-11T23:40:32.823Z"
   },
   {
    "duration": 49,
    "start_time": "2023-02-11T23:40:32.865Z"
   },
   {
    "duration": 47,
    "start_time": "2023-02-11T23:40:32.918Z"
   },
   {
    "duration": 146,
    "start_time": "2023-02-11T23:40:32.967Z"
   },
   {
    "duration": 18,
    "start_time": "2023-02-11T23:40:33.115Z"
   },
   {
    "duration": 67,
    "start_time": "2023-02-11T23:40:33.135Z"
   },
   {
    "duration": 5,
    "start_time": "2023-02-11T23:40:33.204Z"
   },
   {
    "duration": 495,
    "start_time": "2023-02-11T23:40:33.211Z"
   },
   {
    "duration": 379,
    "start_time": "2023-02-11T23:40:33.708Z"
   },
   {
    "duration": 275,
    "start_time": "2023-02-11T23:40:34.093Z"
   },
   {
    "duration": 420,
    "start_time": "2023-02-11T23:40:34.373Z"
   },
   {
    "duration": 358,
    "start_time": "2023-02-11T23:40:34.798Z"
   },
   {
    "duration": 422,
    "start_time": "2023-02-11T23:40:35.162Z"
   },
   {
    "duration": 23,
    "start_time": "2023-02-11T23:40:35.585Z"
   },
   {
    "duration": 201,
    "start_time": "2023-02-11T23:40:35.610Z"
   },
   {
    "duration": 5,
    "start_time": "2023-02-11T23:40:35.814Z"
   },
   {
    "duration": 212,
    "start_time": "2023-02-11T23:40:35.821Z"
   },
   {
    "duration": 6,
    "start_time": "2023-02-11T23:40:36.037Z"
   },
   {
    "duration": 336,
    "start_time": "2023-02-11T23:40:36.047Z"
   },
   {
    "duration": 203,
    "start_time": "2023-02-11T23:40:36.385Z"
   },
   {
    "duration": 66,
    "start_time": "2023-02-11T23:40:38.918Z"
   }
  ],
  "kernelspec": {
   "display_name": "Python 3 (ipykernel)",
   "language": "python",
   "name": "python3"
  },
  "language_info": {
   "codemirror_mode": {
    "name": "ipython",
    "version": 3
   },
   "file_extension": ".py",
   "mimetype": "text/x-python",
   "name": "python",
   "nbconvert_exporter": "python",
   "pygments_lexer": "ipython3",
   "version": "3.9.12"
  },
  "toc": {
   "base_numbering": 1,
   "nav_menu": {},
   "number_sections": true,
   "sideBar": true,
   "skip_h1_title": true,
   "title_cell": "Table of Contents",
   "title_sidebar": "Contents",
   "toc_cell": false,
   "toc_position": {},
   "toc_section_display": true,
   "toc_window_display": false
  }
 },
 "nbformat": 4,
 "nbformat_minor": 2
}
